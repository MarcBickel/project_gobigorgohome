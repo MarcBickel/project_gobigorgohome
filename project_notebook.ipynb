{
 "cells": [
  {
   "cell_type": "markdown",
   "metadata": {},
   "source": [
    "<h1 id=\"tocheading\">Table of Contents</h1>\n",
    "<div id=\"toc\"></div>"
   ]
  },
  {
   "cell_type": "markdown",
   "metadata": {},
   "source": [
    "Execute cell below to get table of contents"
   ]
  },
  {
   "cell_type": "code",
   "execution_count": 3,
   "metadata": {},
   "outputs": [
    {
     "data": {
      "application/javascript": [
       "$.getScript('https://kmahelona.github.io/ipython_notebook_goodies/ipython_notebook_toc.js')\n"
      ],
      "text/plain": [
       "<IPython.core.display.Javascript object>"
      ]
     },
     "metadata": {},
     "output_type": "display_data"
    }
   ],
   "source": [
    "%%javascript\n",
    "$.getScript('https://kmahelona.github.io/ipython_notebook_goodies/ipython_notebook_toc.js')"
   ]
  },
  {
   "cell_type": "code",
   "execution_count": 5,
   "metadata": {},
   "outputs": [],
   "source": [
    "# librairies\n",
    "import pandas as pd\n",
    "import numpy as np\n",
    "import matplotlib.pyplot as plt\n",
    "import seaborn as sns\n",
    "import pickle\n",
    "\n",
    "from googletrans import Translator\n",
    "from scipy.stats import median_absolute_deviation\n",
    "from collections import Counter, OrderedDict"
   ]
  },
  {
   "cell_type": "markdown",
   "metadata": {},
   "source": [
    "# In the past\n",
    "We had ideas at first to analyse the dataset from OpenFoodFacts and consider mainly the carbon footprint of the products. Based on advices from the Teaching Assitants of the course, and our own analysis, compared to the dataset of over a million products, only a few thousands of them actually had a value for carbon footprint. \n",
    "Thus, we decided to drop this idea and went on to discover which one were considered unhealthy, and from then base this project."
   ]
  },
  {
   "cell_type": "markdown",
   "metadata": {},
   "source": [
    "# Initial cleaning of the dataset\n"
   ]
  },
  {
   "cell_type": "markdown",
   "metadata": {},
   "source": [
    "In this part, we load the original [openfoodfacts](https://world.openfoodfacts.org/) dataset into a pandas dataframe. There is one row for each product, and the columns contain different information about this product, such as for example amount of sugar or the additives. After inspection of the original data, we decided to remove the columns in which more than 850k items have a missing value. This step allows us to considerably reduce the size of the dataset, without loosing much information. We don't run this part of the notebook anymore (start at Initial data analysis with the cleaned data set)."
   ]
  },
  {
   "cell_type": "code",
   "execution_count": 6,
   "metadata": {},
   "outputs": [],
   "source": [
    "openfacts_path='Data/en.openfoodfacts.org.products.csv' "
   ]
  },
  {
   "cell_type": "code",
   "execution_count": 7,
   "metadata": {},
   "outputs": [
    {
     "name": "stderr",
     "output_type": "stream",
     "text": [
      "/home/samuel/.local/lib/python3.7/site-packages/IPython/core/interactiveshell.py:3058: DtypeWarning: Columns (0,24,25,26,28,44,49) have mixed types. Specify dtype option on import or set low_memory=False.\n",
      "  interactivity=interactivity, compiler=compiler, result=result)\n"
     ]
    }
   ],
   "source": [
    "df_of=pd.read_csv(openfacts_path,encoding='UTF-8',sep='\\t') # Open original dataset"
   ]
  },
  {
   "cell_type": "code",
   "execution_count": 8,
   "metadata": {},
   "outputs": [],
   "source": [
    "# define dictionnary containing the data\n",
    "col_dict={}\n",
    "for j,i in enumerate(df_of.columns):\n",
    "    col_dict[j]=i"
   ]
  },
  {
   "cell_type": "markdown",
   "metadata": {},
   "source": [
    "Clean Columns of df_of, by removing those with more than 850k of nans in them. Removing the columns with more than 850k still leaves us with 57 columns."
   ]
  },
  {
   "cell_type": "code",
   "execution_count": 9,
   "metadata": {},
   "outputs": [],
   "source": [
    "df_of_clean=pd.DataFrame() \n",
    "for j,i in enumerate(df_of.columns):\n",
    "    if sum(df_of[i].isna())<850000:\n",
    "        df_of_clean[i]=df_of[i]"
   ]
  },
  {
   "cell_type": "markdown",
   "metadata": {},
   "source": [
    "We store the reduced dataset into a pickle file in order to reuse is for the rest of the analysis. "
   ]
  },
  {
   "cell_type": "code",
   "execution_count": 10,
   "metadata": {},
   "outputs": [],
   "source": [
    "df_of_clean.to_pickle('Data/df_openfacts_small.pkl')\n"
   ]
  },
  {
   "cell_type": "code",
   "execution_count": 5,
   "metadata": {},
   "outputs": [],
   "source": [
    "#plt.plot(np.sort(nnan))\n",
    "#plt.title(\"Number of NaN per columns\")\n",
    "#plt.show()"
   ]
  },
  {
   "cell_type": "code",
   "execution_count": 6,
   "metadata": {},
   "outputs": [],
   "source": [
    "#df_sugar=df_tmp[df_tmp['sugars_100g']<100]\n",
    "#df_sugar=df_sugar[df_sugar['sugars_100g']>0]"
   ]
  },
  {
   "cell_type": "code",
   "execution_count": 7,
   "metadata": {},
   "outputs": [],
   "source": [
    "#np.mean(df_sugar['sugars_100g'])"
   ]
  },
  {
   "cell_type": "code",
   "execution_count": 8,
   "metadata": {},
   "outputs": [],
   "source": [
    "#plt.hist(df_sugar['sugars_100g'],bins=25)\n",
    "#plt.show()"
   ]
  },
  {
   "cell_type": "code",
   "execution_count": 9,
   "metadata": {},
   "outputs": [],
   "source": [
    "#df_sugar.shape"
   ]
  },
  {
   "cell_type": "markdown",
   "metadata": {},
   "source": [
    "# Initial data analysis with the cleaned dataset"
   ]
  },
  {
   "cell_type": "markdown",
   "metadata": {},
   "source": [
    "In this part, we work with the cleaned dataset, provided by the previous section of the notebook. We will focus on the products containing information about their nutrition grade. The nutrition grade ranges from \"A\" to \"E\", \"A\" being the best (i.e. healthiest) label and \"E\" the worst. Additional information about the nutrition score, and how it is computed can be found [here](https://fr.openfoodfacts.org/nutriscore?fbclid=IwAR3gF2UqQFGghwxNmyAGQjex07SzRXbHT510X658PuNykZXSdVXN0IokETg). The initial plots in this part, give us a intuition about the relationship between the nutritional grade of the products and some other information provided about them, such the content of the products.  "
   ]
  },
  {
   "cell_type": "markdown",
   "metadata": {},
   "source": [
    "We define the following functions in order to clean and plot the dataset."
   ]
  },
  {
   "cell_type": "code",
   "execution_count": 6,
   "metadata": {},
   "outputs": [],
   "source": [
    "def clean_nan(df,var):\n",
    "    '''Given a dataframe df and a column var, returns a copy of df where the items for\n",
    "    which var is a nan have been removed'''\n",
    "    return df[df[var].isna()==False].copy()"
   ]
  },
  {
   "cell_type": "code",
   "execution_count": 7,
   "metadata": {},
   "outputs": [],
   "source": [
    "def remove_outliers(df,var,k=3):\n",
    "    '''Uses the MAD criterion to remove outliers. The data must be free of nans.\n",
    "    Values that are above or below K times the MAD are removed from the data,\n",
    "    and a copy of the dataframe is returned'''\n",
    "    mad=median_absolute_deviation(df[var])\n",
    "    mean=np.mean(df[var])\n",
    "    return df[np.logical_and(df[var].values<mean+k*mad,df[var].values>mean-k*mad)].copy()"
   ]
  },
  {
   "cell_type": "code",
   "execution_count": 8,
   "metadata": {},
   "outputs": [],
   "source": [
    "def dist_nutritiongrade(df,var,bw=0.5,bins=8):\n",
    "    '''plots kernel desnsity estimation  of the values of column var, given the \n",
    "    nutrition grade'''\n",
    "    df=remove_outliers(clean_nan(df,var),var)\n",
    "    fig, ax=plt.subplots(figsize=(5,5))\n",
    "    for ns in np.unique(df['nutrition_grade_fr']):\n",
    "        sns.distplot(df[df['nutrition_grade_fr']==ns][var],label=ns,ax=ax,\\\n",
    "                     kde_kws={\"bw\": bw},bins=bins)\n",
    "    plt.legend()\n",
    "    plt.show()"
   ]
  },
  {
   "cell_type": "code",
   "execution_count": 9,
   "metadata": {},
   "outputs": [],
   "source": [
    "def boxplot_nutritiongrade(df,var):\n",
    "    '''plots a boxlot of column var, given the nutrition grade'''\n",
    "    df=remove_outliers(clean_nan(df,var),var)\n",
    "    fig, ax=plt.subplots(figsize=(5,5))\n",
    "    sns.boxplot(x=\"nutrition_grade_fr\", y=var, data=df,order=['a','b','c','d','e'],ax=ax)\n",
    "    plt.show()"
   ]
  },
  {
   "cell_type": "code",
   "execution_count": 10,
   "metadata": {},
   "outputs": [],
   "source": [
    "# Load the clean dataset\n",
    "df_of_clean=pd.read_pickle('Data/df_openfacts_small.pkl')"
   ]
  },
  {
   "cell_type": "markdown",
   "metadata": {},
   "source": [
    "Let us take a look at our dataframe :"
   ]
  },
  {
   "cell_type": "code",
   "execution_count": 9,
   "metadata": {
    "scrolled": true
   },
   "outputs": [
    {
     "name": "stdout",
     "output_type": "stream",
     "text": [
      "(1023451, 57)\n"
     ]
    },
    {
     "data": {
      "text/html": [
       "<div>\n",
       "<style scoped>\n",
       "    .dataframe tbody tr th:only-of-type {\n",
       "        vertical-align: middle;\n",
       "    }\n",
       "\n",
       "    .dataframe tbody tr th {\n",
       "        vertical-align: top;\n",
       "    }\n",
       "\n",
       "    .dataframe thead th {\n",
       "        text-align: right;\n",
       "    }\n",
       "</style>\n",
       "<table border=\"1\" class=\"dataframe\">\n",
       "  <thead>\n",
       "    <tr style=\"text-align: right;\">\n",
       "      <th></th>\n",
       "      <th>code</th>\n",
       "      <th>url</th>\n",
       "      <th>creator</th>\n",
       "      <th>created_t</th>\n",
       "      <th>created_datetime</th>\n",
       "      <th>last_modified_t</th>\n",
       "      <th>last_modified_datetime</th>\n",
       "      <th>product_name</th>\n",
       "      <th>quantity</th>\n",
       "      <th>packaging</th>\n",
       "      <th>...</th>\n",
       "      <th>fat_100g</th>\n",
       "      <th>saturated-fat_100g</th>\n",
       "      <th>carbohydrates_100g</th>\n",
       "      <th>sugars_100g</th>\n",
       "      <th>fiber_100g</th>\n",
       "      <th>proteins_100g</th>\n",
       "      <th>salt_100g</th>\n",
       "      <th>sodium_100g</th>\n",
       "      <th>nutrition-score-fr_100g</th>\n",
       "      <th>nutrition-score-uk_100g</th>\n",
       "    </tr>\n",
       "  </thead>\n",
       "  <tbody>\n",
       "    <tr>\n",
       "      <td>0</td>\n",
       "      <td>0000000000017</td>\n",
       "      <td>http://world-en.openfoodfacts.org/product/0000...</td>\n",
       "      <td>kiliweb</td>\n",
       "      <td>1529059080</td>\n",
       "      <td>2018-06-15T10:38:00Z</td>\n",
       "      <td>1561463718</td>\n",
       "      <td>2019-06-25T11:55:18Z</td>\n",
       "      <td>Vitória crackers</td>\n",
       "      <td>NaN</td>\n",
       "      <td>NaN</td>\n",
       "      <td>...</td>\n",
       "      <td>7.0</td>\n",
       "      <td>3.08</td>\n",
       "      <td>70.1</td>\n",
       "      <td>15.0</td>\n",
       "      <td>NaN</td>\n",
       "      <td>7.8</td>\n",
       "      <td>1.40</td>\n",
       "      <td>0.560</td>\n",
       "      <td>NaN</td>\n",
       "      <td>NaN</td>\n",
       "    </tr>\n",
       "    <tr>\n",
       "      <td>1</td>\n",
       "      <td>0000000000031</td>\n",
       "      <td>http://world-en.openfoodfacts.org/product/0000...</td>\n",
       "      <td>isagoofy</td>\n",
       "      <td>1539464774</td>\n",
       "      <td>2018-10-13T21:06:14Z</td>\n",
       "      <td>1539464817</td>\n",
       "      <td>2018-10-13T21:06:57Z</td>\n",
       "      <td>Cacao</td>\n",
       "      <td>130 g</td>\n",
       "      <td>NaN</td>\n",
       "      <td>...</td>\n",
       "      <td>NaN</td>\n",
       "      <td>NaN</td>\n",
       "      <td>NaN</td>\n",
       "      <td>NaN</td>\n",
       "      <td>NaN</td>\n",
       "      <td>NaN</td>\n",
       "      <td>NaN</td>\n",
       "      <td>NaN</td>\n",
       "      <td>NaN</td>\n",
       "      <td>NaN</td>\n",
       "    </tr>\n",
       "    <tr>\n",
       "      <td>2</td>\n",
       "      <td>00000000001111111111</td>\n",
       "      <td>http://world-en.openfoodfacts.org/product/0000...</td>\n",
       "      <td>openfoodfacts-contributors</td>\n",
       "      <td>1560020173</td>\n",
       "      <td>2019-06-08T18:56:13Z</td>\n",
       "      <td>1560020173</td>\n",
       "      <td>2019-06-08T18:56:13Z</td>\n",
       "      <td>Sfiudwx</td>\n",
       "      <td>dgesc</td>\n",
       "      <td>NaN</td>\n",
       "      <td>...</td>\n",
       "      <td>NaN</td>\n",
       "      <td>NaN</td>\n",
       "      <td>NaN</td>\n",
       "      <td>NaN</td>\n",
       "      <td>NaN</td>\n",
       "      <td>NaN</td>\n",
       "      <td>NaN</td>\n",
       "      <td>NaN</td>\n",
       "      <td>NaN</td>\n",
       "      <td>NaN</td>\n",
       "    </tr>\n",
       "    <tr>\n",
       "      <td>3</td>\n",
       "      <td>0000000000123</td>\n",
       "      <td>http://world-en.openfoodfacts.org/product/0000...</td>\n",
       "      <td>kiliweb</td>\n",
       "      <td>1535737982</td>\n",
       "      <td>2018-08-31T17:53:02Z</td>\n",
       "      <td>1535737986</td>\n",
       "      <td>2018-08-31T17:53:06Z</td>\n",
       "      <td>Sauce Sweety chili 0%</td>\n",
       "      <td>NaN</td>\n",
       "      <td>NaN</td>\n",
       "      <td>...</td>\n",
       "      <td>0.0</td>\n",
       "      <td>0.00</td>\n",
       "      <td>4.8</td>\n",
       "      <td>0.4</td>\n",
       "      <td>NaN</td>\n",
       "      <td>0.2</td>\n",
       "      <td>2.04</td>\n",
       "      <td>0.816</td>\n",
       "      <td>NaN</td>\n",
       "      <td>NaN</td>\n",
       "    </tr>\n",
       "    <tr>\n",
       "      <td>4</td>\n",
       "      <td>0000000000178</td>\n",
       "      <td>http://world-en.openfoodfacts.org/product/0000...</td>\n",
       "      <td>kiliweb</td>\n",
       "      <td>1542456332</td>\n",
       "      <td>2018-11-17T12:05:32Z</td>\n",
       "      <td>1542456333</td>\n",
       "      <td>2018-11-17T12:05:33Z</td>\n",
       "      <td>Mini coco</td>\n",
       "      <td>NaN</td>\n",
       "      <td>NaN</td>\n",
       "      <td>...</td>\n",
       "      <td>3.0</td>\n",
       "      <td>1.00</td>\n",
       "      <td>10.0</td>\n",
       "      <td>3.0</td>\n",
       "      <td>NaN</td>\n",
       "      <td>2.0</td>\n",
       "      <td>1.15</td>\n",
       "      <td>0.460</td>\n",
       "      <td>NaN</td>\n",
       "      <td>NaN</td>\n",
       "    </tr>\n",
       "  </tbody>\n",
       "</table>\n",
       "<p>5 rows × 57 columns</p>\n",
       "</div>"
      ],
      "text/plain": [
       "                   code                                                url  \\\n",
       "0         0000000000017  http://world-en.openfoodfacts.org/product/0000...   \n",
       "1         0000000000031  http://world-en.openfoodfacts.org/product/0000...   \n",
       "2  00000000001111111111  http://world-en.openfoodfacts.org/product/0000...   \n",
       "3         0000000000123  http://world-en.openfoodfacts.org/product/0000...   \n",
       "4         0000000000178  http://world-en.openfoodfacts.org/product/0000...   \n",
       "\n",
       "                      creator   created_t      created_datetime  \\\n",
       "0                     kiliweb  1529059080  2018-06-15T10:38:00Z   \n",
       "1                    isagoofy  1539464774  2018-10-13T21:06:14Z   \n",
       "2  openfoodfacts-contributors  1560020173  2019-06-08T18:56:13Z   \n",
       "3                     kiliweb  1535737982  2018-08-31T17:53:02Z   \n",
       "4                     kiliweb  1542456332  2018-11-17T12:05:32Z   \n",
       "\n",
       "   last_modified_t last_modified_datetime           product_name quantity  \\\n",
       "0       1561463718   2019-06-25T11:55:18Z       Vitória crackers      NaN   \n",
       "1       1539464817   2018-10-13T21:06:57Z                  Cacao    130 g   \n",
       "2       1560020173   2019-06-08T18:56:13Z                Sfiudwx    dgesc   \n",
       "3       1535737986   2018-08-31T17:53:06Z  Sauce Sweety chili 0%      NaN   \n",
       "4       1542456333   2018-11-17T12:05:33Z              Mini coco      NaN   \n",
       "\n",
       "  packaging  ... fat_100g saturated-fat_100g carbohydrates_100g sugars_100g  \\\n",
       "0       NaN  ...      7.0               3.08               70.1        15.0   \n",
       "1       NaN  ...      NaN                NaN                NaN         NaN   \n",
       "2       NaN  ...      NaN                NaN                NaN         NaN   \n",
       "3       NaN  ...      0.0               0.00                4.8         0.4   \n",
       "4       NaN  ...      3.0               1.00               10.0         3.0   \n",
       "\n",
       "  fiber_100g proteins_100g salt_100g sodium_100g nutrition-score-fr_100g  \\\n",
       "0        NaN           7.8      1.40       0.560                     NaN   \n",
       "1        NaN           NaN       NaN         NaN                     NaN   \n",
       "2        NaN           NaN       NaN         NaN                     NaN   \n",
       "3        NaN           0.2      2.04       0.816                     NaN   \n",
       "4        NaN           2.0      1.15       0.460                     NaN   \n",
       "\n",
       "  nutrition-score-uk_100g  \n",
       "0                     NaN  \n",
       "1                     NaN  \n",
       "2                     NaN  \n",
       "3                     NaN  \n",
       "4                     NaN  \n",
       "\n",
       "[5 rows x 57 columns]"
      ]
     },
     "execution_count": 9,
     "metadata": {},
     "output_type": "execute_result"
    }
   ],
   "source": [
    "print(df_of_clean.shape) # we still have 57 columns\n",
    "df_of_clean.head()"
   ]
  },
  {
   "cell_type": "code",
   "execution_count": 10,
   "metadata": {
    "scrolled": true
   },
   "outputs": [
    {
     "name": "stdout",
     "output_type": "stream",
     "text": [
      "Index(['code', 'url', 'creator', 'created_t', 'created_datetime',\n",
      "       'last_modified_t', 'last_modified_datetime', 'product_name', 'quantity',\n",
      "       'packaging', 'packaging_tags', 'brands', 'brands_tags', 'categories',\n",
      "       'categories_tags', 'categories_en', 'labels', 'labels_tags',\n",
      "       'labels_en', 'stores', 'countries', 'countries_tags', 'countries_en',\n",
      "       'ingredients_text', 'serving_size', 'serving_quantity', 'additives_n',\n",
      "       'additives_tags', 'additives_en', 'ingredients_from_palm_oil_n',\n",
      "       'ingredients_that_may_be_from_palm_oil_n', 'nutrition_grade_fr',\n",
      "       'nova_group', 'pnns_groups_1', 'pnns_groups_2', 'states', 'states_tags',\n",
      "       'states_en', 'main_category', 'main_category_en', 'image_url',\n",
      "       'image_small_url', 'image_ingredients_url',\n",
      "       'image_ingredients_small_url', 'image_nutrition_url',\n",
      "       'image_nutrition_small_url', 'energy_100g', 'fat_100g',\n",
      "       'saturated-fat_100g', 'carbohydrates_100g', 'sugars_100g', 'fiber_100g',\n",
      "       'proteins_100g', 'salt_100g', 'sodium_100g', 'nutrition-score-fr_100g',\n",
      "       'nutrition-score-uk_100g'],\n",
      "      dtype='object')\n"
     ]
    }
   ],
   "source": [
    "cols_list=df_of_clean.columns\n",
    "print(cols_list)"
   ]
  },
  {
   "cell_type": "markdown",
   "metadata": {},
   "source": [
    "Since our analysis will be performed on the nutrition grade of the products, we only keep the items for which the nutrion grade is given. This reduces our dataset to about 280k rows. "
   ]
  },
  {
   "cell_type": "code",
   "execution_count": 11,
   "metadata": {
    "scrolled": true
   },
   "outputs": [],
   "source": [
    "df_ns=df_of_clean[df_of_clean['nutrition_grade_fr'].isna()==False].copy()"
   ]
  },
  {
   "cell_type": "markdown",
   "metadata": {},
   "source": [
    "We extract the names of the columns that correspond to the amount of a nutriment (in g, or kJ for energy) for 100 g or 100 ml of product, in order to use them later on to produce some plots revealing the relationships between the nutrion grade and the content of the product."
   ]
  },
  {
   "cell_type": "code",
   "execution_count": 12,
   "metadata": {},
   "outputs": [],
   "source": [
    "# names of the columns that provide quantitative facts per 100g of product\n",
    "facts_100g=['energy_100g', 'fat_100g','saturated-fat_100g',\n",
    "            'carbohydrates_100g', 'sugars_100g', 'fiber_100g',\n",
    "            'proteins_100g', 'salt_100g', 'sodium_100g']"
   ]
  },
  {
   "cell_type": "markdown",
   "metadata": {},
   "source": [
    "Before proceeding with our analysis, we verify that the nutrition grade indeed ranges from a to e."
   ]
  },
  {
   "cell_type": "code",
   "execution_count": 13,
   "metadata": {
    "scrolled": true
   },
   "outputs": [
    {
     "name": "stdout",
     "output_type": "stream",
     "text": [
      "['a' 'b' 'c' 'd' 'e']\n"
     ]
    }
   ],
   "source": [
    "ng_f=df_ns['nutrition_grade_fr']\n",
    "print(np.unique(df_ns['nutrition_grade_fr']))"
   ]
  },
  {
   "cell_type": "code",
   "execution_count": 14,
   "metadata": {},
   "outputs": [
    {
     "data": {
      "text/plain": [
       "(289750, 57)"
      ]
     },
     "execution_count": 14,
     "metadata": {},
     "output_type": "execute_result"
    }
   ],
   "source": [
    "df_ns.shape"
   ]
  },
  {
   "cell_type": "code",
   "execution_count": 15,
   "metadata": {},
   "outputs": [],
   "source": [
    "## We also define a dataframe in which we remove outliers and all nans from the dataset \n",
    "df_ns_small=df_ns.copy()\n",
    "for var in facts_100g:\n",
    "    df_ns_small=remove_outliers(clean_nan(df_ns_small,var),var)"
   ]
  },
  {
   "cell_type": "code",
   "execution_count": 16,
   "metadata": {},
   "outputs": [
    {
     "data": {
      "text/plain": [
       "(13420, 57)"
      ]
     },
     "execution_count": 16,
     "metadata": {},
     "output_type": "execute_result"
    }
   ],
   "source": [
    "## we end up with very few raws, so not very convenient!\n",
    "df_ns_small.shape"
   ]
  },
  {
   "cell_type": "markdown",
   "metadata": {},
   "source": [
    "## Analysis of the dataset according to the nutrition score"
   ]
  },
  {
   "cell_type": "markdown",
   "metadata": {},
   "source": [
    "Now that the functions have been defined and the dataset cleaned, we plot kernel density estimations and boxplots of other quantitative facts about the products. These plots allow us to better understand what the nutrition grade represents, by seing how it impacts the contents of the products."
   ]
  },
  {
   "cell_type": "markdown",
   "metadata": {},
   "source": [
    "### Kernel density estimations\n",
    "We start with the columns 'nutrition-score-uk_100g' and 'nutrition-score-fr_100g'. These two columns contain a nutrition score defined respectively by the UK Food Standards Administration (FSA) and the french score is derived from the UK FSA score and adapted for the French market"
   ]
  },
  {
   "cell_type": "code",
   "execution_count": 17,
   "metadata": {},
   "outputs": [
    {
     "data": {
      "image/png": "[encoded data removed]",
      "text/plain": [
       "<Figure size 360x360 with 1 Axes>"
      ]
     },
     "metadata": {
      "needs_background": "light"
     },
     "output_type": "display_data"
    }
   ],
   "source": [
    "dist_nutritiongrade(df_ns,'nutrition-score-fr_100g',bw=0.7)"
   ]
  },
  {
   "cell_type": "code",
   "execution_count": 18,
   "metadata": {},
   "outputs": [
    {
     "data": {
      "image/png": "[encoded data removed]",
      "text/plain": [
       "<Figure size 360x360 with 1 Axes>"
      ]
     },
     "metadata": {
      "needs_background": "light"
     },
     "output_type": "display_data"
    }
   ],
   "source": [
    "dist_nutritiongrade(df_ns,'nutrition-score-uk_100g',bw=0.7)"
   ]
  },
  {
   "cell_type": "markdown",
   "metadata": {},
   "source": [
    "##### Analysis of the KDE \n",
    "The two above plots, reveal that the both the UK and French nutrition scores clearly categorize the data in a way similar to the nutrition grade. They approximately range from -10 to 30, the lower the better. We can say that they convey the same information as the nutrition grade, since both plots clearly show that one could map almost bijectively the labels \"a\" to \"e\" to corresponding intervals of values between -10 and 30."
   ]
  },
  {
   "cell_type": "code",
   "execution_count": 10,
   "metadata": {
    "scrolled": true
   },
   "outputs": [],
   "source": [
    "#for var in facts_100g:\n",
    "    #dist_nutritiongrade(df_ns,var,bw=1)"
   ]
  },
  {
   "cell_type": "markdown",
   "metadata": {},
   "source": [
    "### Boxplots \n",
    "We now plot boxplots with the dataset, cleaning only the column that we need to plot :"
   ]
  },
  {
   "cell_type": "code",
   "execution_count": 19,
   "metadata": {},
   "outputs": [
    {
     "data": {
      "image/png": "[encoded data removed]",
      "text/plain": [
       "<Figure size 360x360 with 1 Axes>"
      ]
     },
     "metadata": {
      "needs_background": "light"
     },
     "output_type": "display_data"
    },
    {
     "data": {
      "image/png": "[encoded data removed]",
      "text/plain": [
       "<Figure size 360x360 with 1 Axes>"
      ]
     },
     "metadata": {
      "needs_background": "light"
     },
     "output_type": "display_data"
    },
    {
     "data": {
      "image/png": "[encoded data removed]",
      "text/plain": [
       "<Figure size 360x360 with 1 Axes>"
      ]
     },
     "metadata": {
      "needs_background": "light"
     },
     "output_type": "display_data"
    },
    {
     "data": {
      "image/png": "[encoded data removed]",
      "text/plain": [
       "<Figure size 360x360 with 1 Axes>"
      ]
     },
     "metadata": {
      "needs_background": "light"
     },
     "output_type": "display_data"
    },
    {
     "data": {
      "image/png": "[encoded data removed]",
      "text/plain": [
       "<Figure size 360x360 with 1 Axes>"
      ]
     },
     "metadata": {
      "needs_background": "light"
     },
     "output_type": "display_data"
    },
    {
     "data": {
      "image/png": "[encoded data removed]",
      "text/plain": [
       "<Figure size 360x360 with 1 Axes>"
      ]
     },
     "metadata": {
      "needs_background": "light"
     },
     "output_type": "display_data"
    },
    {
     "data": {
      "image/png": "[encoded data removed]",
      "text/plain": [
       "<Figure size 360x360 with 1 Axes>"
      ]
     },
     "metadata": {
      "needs_background": "light"
     },
     "output_type": "display_data"
    },
    {
     "data": {
      "image/png": "[encoded data removed]",
      "text/plain": [
       "<Figure size 360x360 with 1 Axes>"
      ]
     },
     "metadata": {
      "needs_background": "light"
     },
     "output_type": "display_data"
    },
    {
     "data": {
      "image/png": "[encoded data removed]",
      "text/plain": [
       "<Figure size 360x360 with 1 Axes>"
      ]
     },
     "metadata": {
      "needs_background": "light"
     },
     "output_type": "display_data"
    }
   ],
   "source": [
    "for var in facts_100g:\n",
    "    boxplot_nutritiongrade(df_ns,var)"
   ]
  },
  {
   "cell_type": "markdown",
   "metadata": {},
   "source": [
    "##### Analysis of the boxplots :\n",
    "- Energy : The amount of calories in 100g of food increases almost linearly with respect to their nutrition grade (no surprises here, the \"unhealthier\" the product, the more calorific it is). Products in category \"a\" show a slightly bigger variance around the median in their amount of energy, than the products of the other categories. The reason behind this is probably that category \"a\" contains two kinds of very different products from a nutritional point of view. On the one hand, it contains all the fruit and vegetables, which are poor in calories, but it also contains starchy foods such as some type of pasta or rice, which contain significantly higher amounts of energy than the vegetables. \n",
    "- Fat : The median fat amount of the products seems to increase in a quadratic fashion with respect to their nutrion grade. Also, the amount of fat in the products becomes more and more spread out. This could be due to the fact that the unhealthy products could be separated into several more categories (i.e. degree of \"unhealthiness\"). Indeed, when thinking for example about regular milk chocolate and nutella, both products belong to category \"e\", but the latter is in a sense much unhealthier than the first one. In other words, some products are unhealthy because they contain a little bit too much fat, but in others the amount of fat is pushed to extreme degrees. One can also observe a shift when passing from category \"c\" to \"d\". While a lot of products in the first categories don't contain any fat at all, the middle 50% of the data in \"d\" contains at least 5g of fat.\n",
    "- Saturated Fat : Almost the same observations as for the fat boxplot. One difference is that the lower quartile for categories \"d\" and \"e\" remains almost 0, while the upper quartile increases a lot when changing categories. Thus, the variance in amounts of saturated fats increases a lot when dealing with the unhealthy products.\n",
    "- Carbohydrates : The median amount of carbohydrates is much higher for elements in \"e\" compared to the other grades. Furthermore, the box in \"b\" is significantly smaller than for the other categories. This is explained by the fact that category \"b\" contains mainly dairy and animal products (fish, meat) which both contain a low amount of carbohydrates.\n",
    "- Sugars : The median amount of sugar is higher for products in \"e\" than for the other grades. The upper quartile is also significantly higher than for the other categories. Surprisingly, products in \"c\" seem to contain more sugar than the ones in \"d\" (higher median and upper quartile). This inconsistency is not suprising when we look at the large amount of outliers for boxplot \"d\".\n",
    "- Fiber : Products in \"a\" show significantly higher amounts of fibers than products in the other categories.\n",
    "- Proteins : No distinct paterns and relationship emerge between the amount of proteins and the nutritional grade. \n",
    "- Salt : The median and upper quantile increases linearly up to grade \"d\", and then decreases again for products in \"e\". This indicates that category \"d\" contains the salty products such as some kinds of cheese or potato chips, and that the unhealthiest products still remain products that are mainly sweet. \n",
    "- Sodium : Similar conclusions to the ones made about the salt boxplot can be drawn.\n"
   ]
  },
  {
   "cell_type": "markdown",
   "metadata": {},
   "source": [
    "##### Boxplots with the reduced dataset \n",
    "\n",
    "We also plotted some boxplots with the **reduced dataset** (i.e. the dataset where all NaNs have beeen removed) in order to see if the analysis differs to the one made about the previous boxplots. "
   ]
  },
  {
   "cell_type": "code",
   "execution_count": 21,
   "metadata": {
    "scrolled": false
   },
   "outputs": [
    {
     "data": {
      "image/png": "[encoded data removed]",
      "text/plain": [
       "<Figure size 432x288 with 1 Axes>"
      ]
     },
     "metadata": {
      "needs_background": "light"
     },
     "output_type": "display_data"
    },
    {
     "data": {
      "image/png": "[encoded data removed]",
      "text/plain": [
       "<Figure size 432x288 with 1 Axes>"
      ]
     },
     "metadata": {
      "needs_background": "light"
     },
     "output_type": "display_data"
    },
    {
     "data": {
      "image/png": "[encoded data removed]",
      "text/plain": [
       "<Figure size 432x288 with 1 Axes>"
      ]
     },
     "metadata": {
      "needs_background": "light"
     },
     "output_type": "display_data"
    },
    {
     "data": {
      "image/png": "[encoded data removed]",
      "text/plain": [
       "<Figure size 432x288 with 1 Axes>"
      ]
     },
     "metadata": {
      "needs_background": "light"
     },
     "output_type": "display_data"
    },
    {
     "data": {
      "image/png": "[encoded data removed]",
      "text/plain": [
       "<Figure size 432x288 with 1 Axes>"
      ]
     },
     "metadata": {
      "needs_background": "light"
     },
     "output_type": "display_data"
    },
    {
     "data": {
      "image/png": "[encoded data removed]",
      "text/plain": [
       "<Figure size 432x288 with 1 Axes>"
      ]
     },
     "metadata": {
      "needs_background": "light"
     },
     "output_type": "display_data"
    },
    {
     "data": {
      "image/png": "[encoded data removed]",
      "text/plain": [
       "<Figure size 432x288 with 1 Axes>"
      ]
     },
     "metadata": {
      "needs_background": "light"
     },
     "output_type": "display_data"
    },
    {
     "data": {
      "image/png": "[encoded data removed]",
      "text/plain": [
       "<Figure size 432x288 with 1 Axes>"
      ]
     },
     "metadata": {
      "needs_background": "light"
     },
     "output_type": "display_data"
    },
    {
     "data": {
      "image/png": "[encoded data removed]",
      "text/plain": [
       "<Figure size 432x288 with 1 Axes>"
      ]
     },
     "metadata": {
      "needs_background": "light"
     },
     "output_type": "display_data"
    }
   ],
   "source": [
    "# boxplot with the reduced dataset\n",
    "for var in facts_100g:\n",
    "    fig,ax=plt.subplots()\n",
    "    sns.boxplot(x=\"nutrition_grade_fr\", y=var, data=df_ns_small,order=['a','b','c','d','e'],ax=ax)"
   ]
  },
  {
   "cell_type": "markdown",
   "metadata": {},
   "source": [
    "**Analysis of the boxplots** :\n",
    "Overall, the lower and upper quartiles of these boxplots are much closer for these boxplots than for the previous ones (i.e. less variance around the median). We will now discuss separately te boxplots showing different results to the previous ones.\n",
    "- Saturated Fat : the trend according to which the amount of saturated fat increases quadraticaly with the grade of the products is seen clearer in this boxplot. \n",
    "- Sugars : the relationship between amount of sugar and grade is more difficult to see in these boxplots. Too much information has been lost.\n",
    "- Fiber : One can see even clearer the difference in amount of fibers between products in \"a\" and the remaining of the products. Also there is clearly a decreasing trend, the unhealthier the products, the less fibers they contain.\n",
    "- Salt and Sodium : We don't observe the same drop in amounts of salt/sodium between categories \"d\" and \"e\" as previously. "
   ]
  },
  {
   "cell_type": "markdown",
   "metadata": {},
   "source": [
    "## Focus on the worst nutrition score"
   ]
  },
  {
   "cell_type": "markdown",
   "metadata": {},
   "source": [
    "In some next steps of our analysis, we will want to especially focus on products having a nutrition grade of \"e\". After linking this dataset to the [instacart](https://www.instacart.com/) dataset, we will research if some interesting patterns emerge about these products from a consumer point of view.\n",
    "In this part we create a dataframe containing only the products with the worse nutrition grade, for later use."
   ]
  },
  {
   "cell_type": "code",
   "execution_count": 12,
   "metadata": {},
   "outputs": [],
   "source": [
    "df_e=df_ns[df_ns['nutrition_grade_fr']=='e'].copy()"
   ]
  },
  {
   "cell_type": "code",
   "execution_count": 24,
   "metadata": {},
   "outputs": [
    {
     "data": {
      "text/plain": [
       "(57186, 57)"
      ]
     },
     "execution_count": 24,
     "metadata": {},
     "output_type": "execute_result"
    }
   ],
   "source": [
    "df_e.shape"
   ]
  },
  {
   "cell_type": "code",
   "execution_count": 22,
   "metadata": {},
   "outputs": [],
   "source": [
    "facts_grade_e=['energy_100g', 'fat_100g']"
   ]
  },
  {
   "cell_type": "code",
   "execution_count": 23,
   "metadata": {},
   "outputs": [],
   "source": [
    "df_e_small=df_e.copy()\n",
    "for var in facts_grade_e:\n",
    "    df_e_small=remove_outliers(clean_nan(df_e_small,var),var)"
   ]
  },
  {
   "cell_type": "code",
   "execution_count": 24,
   "metadata": {},
   "outputs": [
    {
     "data": {
      "text/html": [
       "<div>\n",
       "<style scoped>\n",
       "    .dataframe tbody tr th:only-of-type {\n",
       "        vertical-align: middle;\n",
       "    }\n",
       "\n",
       "    .dataframe tbody tr th {\n",
       "        vertical-align: top;\n",
       "    }\n",
       "\n",
       "    .dataframe thead th {\n",
       "        text-align: right;\n",
       "    }\n",
       "</style>\n",
       "<table border=\"1\" class=\"dataframe\">\n",
       "  <thead>\n",
       "    <tr style=\"text-align: right;\">\n",
       "      <th></th>\n",
       "      <th>code</th>\n",
       "      <th>url</th>\n",
       "      <th>creator</th>\n",
       "      <th>created_t</th>\n",
       "      <th>created_datetime</th>\n",
       "      <th>last_modified_t</th>\n",
       "      <th>last_modified_datetime</th>\n",
       "      <th>product_name</th>\n",
       "      <th>quantity</th>\n",
       "      <th>packaging</th>\n",
       "      <th>...</th>\n",
       "      <th>fat_100g</th>\n",
       "      <th>saturated-fat_100g</th>\n",
       "      <th>carbohydrates_100g</th>\n",
       "      <th>sugars_100g</th>\n",
       "      <th>fiber_100g</th>\n",
       "      <th>proteins_100g</th>\n",
       "      <th>salt_100g</th>\n",
       "      <th>sodium_100g</th>\n",
       "      <th>nutrition-score-fr_100g</th>\n",
       "      <th>nutrition-score-uk_100g</th>\n",
       "    </tr>\n",
       "  </thead>\n",
       "  <tbody>\n",
       "    <tr>\n",
       "      <td>11965</td>\n",
       "      <td>11863118764</td>\n",
       "      <td>http://world-en.openfoodfacts.org/product/0011...</td>\n",
       "      <td>usda-ndb-import</td>\n",
       "      <td>1489066350</td>\n",
       "      <td>2017-03-09T13:32:30Z</td>\n",
       "      <td>1535680058</td>\n",
       "      <td>2018-08-31T01:47:38Z</td>\n",
       "      <td>Bellavitano, Merlot Cheese</td>\n",
       "      <td>150 g</td>\n",
       "      <td>Envoltura de plastico</td>\n",
       "      <td>...</td>\n",
       "      <td>30.00</td>\n",
       "      <td>20.00</td>\n",
       "      <td>6.67</td>\n",
       "      <td>0.00</td>\n",
       "      <td>0.00</td>\n",
       "      <td>26.70</td>\n",
       "      <td>1690.000000</td>\n",
       "      <td>677.000000</td>\n",
       "      <td>25.0</td>\n",
       "      <td>30.0</td>\n",
       "    </tr>\n",
       "    <tr>\n",
       "      <td>84114</td>\n",
       "      <td>680813</td>\n",
       "      <td>http://world-en.openfoodfacts.org/product/0068...</td>\n",
       "      <td>openfoodfacts-contributors</td>\n",
       "      <td>1569000770</td>\n",
       "      <td>2019-09-20T17:32:50Z</td>\n",
       "      <td>1569001950</td>\n",
       "      <td>2019-09-20T17:52:30Z</td>\n",
       "      <td>Maxi Burger charolais</td>\n",
       "      <td>195g</td>\n",
       "      <td>NaN</td>\n",
       "      <td>...</td>\n",
       "      <td>24.80</td>\n",
       "      <td>10.30</td>\n",
       "      <td>46.00</td>\n",
       "      <td>3.10</td>\n",
       "      <td>NaN</td>\n",
       "      <td>28.10</td>\n",
       "      <td>1.880000</td>\n",
       "      <td>0.752000</td>\n",
       "      <td>28.0</td>\n",
       "      <td>28.0</td>\n",
       "    </tr>\n",
       "    <tr>\n",
       "      <td>104356</td>\n",
       "      <td>74323046199</td>\n",
       "      <td>http://world-en.openfoodfacts.org/product/0074...</td>\n",
       "      <td>usda-ndb-import</td>\n",
       "      <td>1489062284</td>\n",
       "      <td>2017-03-09T12:24:44Z</td>\n",
       "      <td>1551563010</td>\n",
       "      <td>2019-03-02T21:43:30Z</td>\n",
       "      <td>Cajeta Quemada</td>\n",
       "      <td>660 g</td>\n",
       "      <td>Botella de plastico</td>\n",
       "      <td>...</td>\n",
       "      <td>8.33</td>\n",
       "      <td>8.33</td>\n",
       "      <td>66.70</td>\n",
       "      <td>46.70</td>\n",
       "      <td>0.00</td>\n",
       "      <td>6.67</td>\n",
       "      <td>296.000000</td>\n",
       "      <td>119.000000</td>\n",
       "      <td>38.0</td>\n",
       "      <td>38.0</td>\n",
       "    </tr>\n",
       "    <tr>\n",
       "      <td>114462</td>\n",
       "      <td>77975089156</td>\n",
       "      <td>http://world-en.openfoodfacts.org/product/0077...</td>\n",
       "      <td>usda-ndb-import</td>\n",
       "      <td>1489057254</td>\n",
       "      <td>2017-03-09T11:00:54Z</td>\n",
       "      <td>1571271950</td>\n",
       "      <td>2019-10-17T00:25:50Z</td>\n",
       "      <td>Mini Pretzels</td>\n",
       "      <td>226.8 g</td>\n",
       "      <td>Bolsa de plastico</td>\n",
       "      <td>...</td>\n",
       "      <td>6.67</td>\n",
       "      <td>3.33</td>\n",
       "      <td>83.30</td>\n",
       "      <td>1.67</td>\n",
       "      <td>3.33</td>\n",
       "      <td>0.00</td>\n",
       "      <td>3980.000000</td>\n",
       "      <td>1590.000000</td>\n",
       "      <td>20.0</td>\n",
       "      <td>20.0</td>\n",
       "    </tr>\n",
       "    <tr>\n",
       "      <td>116531</td>\n",
       "      <td>78742085296</td>\n",
       "      <td>http://world-en.openfoodfacts.org/product/0078...</td>\n",
       "      <td>usda-ndb-import</td>\n",
       "      <td>1489142282</td>\n",
       "      <td>2017-03-10T10:38:02Z</td>\n",
       "      <td>1541008192</td>\n",
       "      <td>2018-10-31T17:49:52Z</td>\n",
       "      <td>Deli Style Sliced Mild Cheddar Cheese</td>\n",
       "      <td>227 g</td>\n",
       "      <td>Bolsa de plastico</td>\n",
       "      <td>...</td>\n",
       "      <td>31.60</td>\n",
       "      <td>18.40</td>\n",
       "      <td>0.00</td>\n",
       "      <td>0.00</td>\n",
       "      <td>0.00</td>\n",
       "      <td>26.30</td>\n",
       "      <td>1600.000000</td>\n",
       "      <td>642.000000</td>\n",
       "      <td>25.0</td>\n",
       "      <td>30.0</td>\n",
       "    </tr>\n",
       "    <tr>\n",
       "      <td>117762</td>\n",
       "      <td>78742283357</td>\n",
       "      <td>http://world-en.openfoodfacts.org/product/0078...</td>\n",
       "      <td>zoneblockscommunity</td>\n",
       "      <td>1471740813</td>\n",
       "      <td>2016-08-21T00:53:33Z</td>\n",
       "      <td>1540841365</td>\n",
       "      <td>2018-10-29T19:29:25Z</td>\n",
       "      <td>Parmesan Cheese</td>\n",
       "      <td>170 g</td>\n",
       "      <td>Bosla de plastico resellable</td>\n",
       "      <td>...</td>\n",
       "      <td>25.00</td>\n",
       "      <td>14.30</td>\n",
       "      <td>3.57</td>\n",
       "      <td>0.00</td>\n",
       "      <td>0.00</td>\n",
       "      <td>35.70</td>\n",
       "      <td>3080.000000</td>\n",
       "      <td>1230.000000</td>\n",
       "      <td>25.0</td>\n",
       "      <td>30.0</td>\n",
       "    </tr>\n",
       "    <tr>\n",
       "      <td>129317</td>\n",
       "      <td>94331410560</td>\n",
       "      <td>http://world-en.openfoodfacts.org/product/0094...</td>\n",
       "      <td>usda-ndb-import</td>\n",
       "      <td>1489069466</td>\n",
       "      <td>2017-03-09T14:24:26Z</td>\n",
       "      <td>1551634087</td>\n",
       "      <td>2019-03-03T17:28:07Z</td>\n",
       "      <td>Granvita, Granola Cereal With Fruit</td>\n",
       "      <td>400 g</td>\n",
       "      <td>Bolsa de plastico</td>\n",
       "      <td>...</td>\n",
       "      <td>11.20</td>\n",
       "      <td>2.00</td>\n",
       "      <td>62.80</td>\n",
       "      <td>22.00</td>\n",
       "      <td>8.50</td>\n",
       "      <td>11.50</td>\n",
       "      <td>57.100000</td>\n",
       "      <td>22.900000</td>\n",
       "      <td>20.0</td>\n",
       "      <td>20.0</td>\n",
       "    </tr>\n",
       "    <tr>\n",
       "      <td>134186</td>\n",
       "      <td>01442830</td>\n",
       "      <td>http://world-en.openfoodfacts.org/product/0144...</td>\n",
       "      <td>kiliweb</td>\n",
       "      <td>1542360168</td>\n",
       "      <td>2018-11-16T09:22:48Z</td>\n",
       "      <td>1560806782</td>\n",
       "      <td>2019-06-17T21:26:22Z</td>\n",
       "      <td>Lemon curd</td>\n",
       "      <td>320 g</td>\n",
       "      <td>NaN</td>\n",
       "      <td>...</td>\n",
       "      <td>17.90</td>\n",
       "      <td>12.30</td>\n",
       "      <td>54.60</td>\n",
       "      <td>48.30</td>\n",
       "      <td>NaN</td>\n",
       "      <td>2.60</td>\n",
       "      <td>0.380000</td>\n",
       "      <td>0.152000</td>\n",
       "      <td>31.0</td>\n",
       "      <td>31.0</td>\n",
       "    </tr>\n",
       "    <tr>\n",
       "      <td>139857</td>\n",
       "      <td>0202459022309</td>\n",
       "      <td>http://world-en.openfoodfacts.org/product/0202...</td>\n",
       "      <td>ccacacatcatherine</td>\n",
       "      <td>1561215964</td>\n",
       "      <td>2019-06-22T15:06:04Z</td>\n",
       "      <td>1561216191</td>\n",
       "      <td>2019-06-22T15:09:51Z</td>\n",
       "      <td>2 tartelettes citron meringuées</td>\n",
       "      <td>200 g</td>\n",
       "      <td>blister</td>\n",
       "      <td>...</td>\n",
       "      <td>25.00</td>\n",
       "      <td>14.00</td>\n",
       "      <td>45.00</td>\n",
       "      <td>34.00</td>\n",
       "      <td>1.40</td>\n",
       "      <td>5.60</td>\n",
       "      <td>0.300000</td>\n",
       "      <td>0.120000</td>\n",
       "      <td>27.0</td>\n",
       "      <td>27.0</td>\n",
       "    </tr>\n",
       "    <tr>\n",
       "      <td>176137</td>\n",
       "      <td>654858703882</td>\n",
       "      <td>http://world-en.openfoodfacts.org/product/0654...</td>\n",
       "      <td>usda-ndb-import</td>\n",
       "      <td>1489070592</td>\n",
       "      <td>2017-03-09T14:43:12Z</td>\n",
       "      <td>1540857399</td>\n",
       "      <td>2018-10-29T23:56:39Z</td>\n",
       "      <td>Queso havarti en rebanadas</td>\n",
       "      <td>213 g</td>\n",
       "      <td>Bolsa plástica</td>\n",
       "      <td>...</td>\n",
       "      <td>34.00</td>\n",
       "      <td>22.00</td>\n",
       "      <td>0.10</td>\n",
       "      <td>0.10</td>\n",
       "      <td>0.00</td>\n",
       "      <td>23.00</td>\n",
       "      <td>2235.200000</td>\n",
       "      <td>894.080000</td>\n",
       "      <td>25.0</td>\n",
       "      <td>30.0</td>\n",
       "    </tr>\n",
       "    <tr>\n",
       "      <td>238167</td>\n",
       "      <td>09359604</td>\n",
       "      <td>http://world-en.openfoodfacts.org/product/0935...</td>\n",
       "      <td>openfoodfacts-contributors</td>\n",
       "      <td>1537170707</td>\n",
       "      <td>2018-09-17T07:51:47Z</td>\n",
       "      <td>1537171123</td>\n",
       "      <td>2018-09-17T07:58:43Z</td>\n",
       "      <td>fromage en tranches</td>\n",
       "      <td>0,244kg</td>\n",
       "      <td>sachet sous vide</td>\n",
       "      <td>...</td>\n",
       "      <td>30.00</td>\n",
       "      <td>21.00</td>\n",
       "      <td>0.00</td>\n",
       "      <td>0.00</td>\n",
       "      <td>0.00</td>\n",
       "      <td>23.00</td>\n",
       "      <td>13.000000</td>\n",
       "      <td>5.200000</td>\n",
       "      <td>30.0</td>\n",
       "      <td>30.0</td>\n",
       "    </tr>\n",
       "    <tr>\n",
       "      <td>239708</td>\n",
       "      <td>11110217</td>\n",
       "      <td>http://world-en.openfoodfacts.org/product/1111...</td>\n",
       "      <td>openfoodfacts-contributors</td>\n",
       "      <td>1571588795</td>\n",
       "      <td>2019-10-20T16:26:35Z</td>\n",
       "      <td>1571588985</td>\n",
       "      <td>2019-10-20T16:29:45Z</td>\n",
       "      <td>Quatre quart CHABRIOR pur beurre 800g</td>\n",
       "      <td>800g</td>\n",
       "      <td>barquette carton plastifiée</td>\n",
       "      <td>...</td>\n",
       "      <td>23.60</td>\n",
       "      <td>16.00</td>\n",
       "      <td>48.10</td>\n",
       "      <td>27.00</td>\n",
       "      <td>NaN</td>\n",
       "      <td>5.80</td>\n",
       "      <td>1.340000</td>\n",
       "      <td>0.536000</td>\n",
       "      <td>30.0</td>\n",
       "      <td>30.0</td>\n",
       "    </tr>\n",
       "    <tr>\n",
       "      <td>242056</td>\n",
       "      <td>13928193</td>\n",
       "      <td>http://world-en.openfoodfacts.org/product/1392...</td>\n",
       "      <td>openfoodfacts-contributors</td>\n",
       "      <td>1566766286</td>\n",
       "      <td>2019-08-25T20:51:26Z</td>\n",
       "      <td>1566767268</td>\n",
       "      <td>2019-08-25T21:07:48Z</td>\n",
       "      <td>madeleines</td>\n",
       "      <td>420g</td>\n",
       "      <td>15 x 28g</td>\n",
       "      <td>...</td>\n",
       "      <td>27.00</td>\n",
       "      <td>17.00</td>\n",
       "      <td>50.80</td>\n",
       "      <td>27.70</td>\n",
       "      <td>0.70</td>\n",
       "      <td>5.50</td>\n",
       "      <td>0.910000</td>\n",
       "      <td>0.364000</td>\n",
       "      <td>30.0</td>\n",
       "      <td>30.0</td>\n",
       "    </tr>\n",
       "    <tr>\n",
       "      <td>243196</td>\n",
       "      <td>15940278</td>\n",
       "      <td>http://world-en.openfoodfacts.org/product/1594...</td>\n",
       "      <td>clon</td>\n",
       "      <td>1563286550</td>\n",
       "      <td>2019-07-16T14:15:50Z</td>\n",
       "      <td>1567928872</td>\n",
       "      <td>2019-09-08T07:47:52Z</td>\n",
       "      <td>Brigit</td>\n",
       "      <td>90 g</td>\n",
       "      <td>NaN</td>\n",
       "      <td>...</td>\n",
       "      <td>24.40</td>\n",
       "      <td>11.30</td>\n",
       "      <td>48.80</td>\n",
       "      <td>41.30</td>\n",
       "      <td>7.72</td>\n",
       "      <td>9.30</td>\n",
       "      <td>0.120000</td>\n",
       "      <td>0.048000</td>\n",
       "      <td>24.0</td>\n",
       "      <td>24.0</td>\n",
       "    </tr>\n",
       "    <tr>\n",
       "      <td>276525</td>\n",
       "      <td>2200389002383</td>\n",
       "      <td>http://world-en.openfoodfacts.org/product/2200...</td>\n",
       "      <td>openfoodfacts-contributors</td>\n",
       "      <td>1550429163</td>\n",
       "      <td>2019-02-17T18:46:03Z</td>\n",
       "      <td>1553197991</td>\n",
       "      <td>2019-03-21T19:53:11Z</td>\n",
       "      <td>bloc gouda jeune</td>\n",
       "      <td>303 g</td>\n",
       "      <td>Barquette</td>\n",
       "      <td>...</td>\n",
       "      <td>31.00</td>\n",
       "      <td>21.00</td>\n",
       "      <td>0.00</td>\n",
       "      <td>0.00</td>\n",
       "      <td>0.00</td>\n",
       "      <td>23.00</td>\n",
       "      <td>2.000000</td>\n",
       "      <td>0.800000</td>\n",
       "      <td>28.0</td>\n",
       "      <td>28.0</td>\n",
       "    </tr>\n",
       "    <tr>\n",
       "      <td>286795</td>\n",
       "      <td>2266198023551</td>\n",
       "      <td>http://world-en.openfoodfacts.org/product/2266...</td>\n",
       "      <td>openfoodfacts-contributors</td>\n",
       "      <td>1537079179</td>\n",
       "      <td>2018-09-16T06:26:19Z</td>\n",
       "      <td>1549043737</td>\n",
       "      <td>2019-02-01T17:55:37Z</td>\n",
       "      <td>Morbier affinage 60 jours</td>\n",
       "      <td>NaN</td>\n",
       "      <td>NaN</td>\n",
       "      <td>...</td>\n",
       "      <td>20.00</td>\n",
       "      <td>20.00</td>\n",
       "      <td>1.00</td>\n",
       "      <td>1.00</td>\n",
       "      <td>NaN</td>\n",
       "      <td>23.00</td>\n",
       "      <td>1.300000</td>\n",
       "      <td>0.520000</td>\n",
       "      <td>20.0</td>\n",
       "      <td>25.0</td>\n",
       "    </tr>\n",
       "    <tr>\n",
       "      <td>314562</td>\n",
       "      <td>2609713037006</td>\n",
       "      <td>http://world-en.openfoodfacts.org/product/2609...</td>\n",
       "      <td>openfoodfacts-contributors</td>\n",
       "      <td>1538145697</td>\n",
       "      <td>2018-09-28T14:41:37Z</td>\n",
       "      <td>1538146115</td>\n",
       "      <td>2018-09-28T14:48:35Z</td>\n",
       "      <td>assortiment de guimauves au chocolat noir,au choc</td>\n",
       "      <td>0,634 g</td>\n",
       "      <td>boite plastique</td>\n",
       "      <td>...</td>\n",
       "      <td>10.00</td>\n",
       "      <td>6.50</td>\n",
       "      <td>73.70</td>\n",
       "      <td>56.70</td>\n",
       "      <td>NaN</td>\n",
       "      <td>3.60</td>\n",
       "      <td>0.050000</td>\n",
       "      <td>0.020000</td>\n",
       "      <td>26.0</td>\n",
       "      <td>26.0</td>\n",
       "    </tr>\n",
       "    <tr>\n",
       "      <td>328291</td>\n",
       "      <td>29064373</td>\n",
       "      <td>http://world-en.openfoodfacts.org/product/2906...</td>\n",
       "      <td>anticultist</td>\n",
       "      <td>1472584501</td>\n",
       "      <td>2016-08-30T19:15:01Z</td>\n",
       "      <td>1565628380</td>\n",
       "      <td>2019-08-12T16:46:20Z</td>\n",
       "      <td>Milch Snack Schoko-Nuss</td>\n",
       "      <td>300g</td>\n",
       "      <td>Karton</td>\n",
       "      <td>...</td>\n",
       "      <td>28.00</td>\n",
       "      <td>16.00</td>\n",
       "      <td>44.00</td>\n",
       "      <td>31.00</td>\n",
       "      <td>NaN</td>\n",
       "      <td>5.80</td>\n",
       "      <td>0.470000</td>\n",
       "      <td>0.188000</td>\n",
       "      <td>28.0</td>\n",
       "      <td>28.0</td>\n",
       "    </tr>\n",
       "    <tr>\n",
       "      <td>351777</td>\n",
       "      <td>3103220041123</td>\n",
       "      <td>http://world-en.openfoodfacts.org/product/3103...</td>\n",
       "      <td>kiliweb</td>\n",
       "      <td>1530382687</td>\n",
       "      <td>2018-06-30T18:18:07Z</td>\n",
       "      <td>1569955509</td>\n",
       "      <td>2019-10-01T18:45:09Z</td>\n",
       "      <td>Haribo</td>\n",
       "      <td>NaN</td>\n",
       "      <td>NaN</td>\n",
       "      <td>...</td>\n",
       "      <td>0.50</td>\n",
       "      <td>0.10</td>\n",
       "      <td>80.00</td>\n",
       "      <td>52.00</td>\n",
       "      <td>NaN</td>\n",
       "      <td>5.40</td>\n",
       "      <td>0.030000</td>\n",
       "      <td>0.012000</td>\n",
       "      <td>20.0</td>\n",
       "      <td>20.0</td>\n",
       "    </tr>\n",
       "    <tr>\n",
       "      <td>378632</td>\n",
       "      <td>3228022000298</td>\n",
       "      <td>http://world-en.openfoodfacts.org/product/3228...</td>\n",
       "      <td>kiliweb</td>\n",
       "      <td>1504422003</td>\n",
       "      <td>2017-09-03T07:00:03Z</td>\n",
       "      <td>1563869542</td>\n",
       "      <td>2019-07-23T08:12:22Z</td>\n",
       "      <td>President Beurre Leger</td>\n",
       "      <td>250 g</td>\n",
       "      <td>Plastic</td>\n",
       "      <td>...</td>\n",
       "      <td>40.00</td>\n",
       "      <td>26.00</td>\n",
       "      <td>4.00</td>\n",
       "      <td>0.00</td>\n",
       "      <td>0.00</td>\n",
       "      <td>0.80</td>\n",
       "      <td>0.400000</td>\n",
       "      <td>0.160000</td>\n",
       "      <td>21.0</td>\n",
       "      <td>21.0</td>\n",
       "    </tr>\n",
       "    <tr>\n",
       "      <td>386692</td>\n",
       "      <td>3248833701351</td>\n",
       "      <td>http://world-en.openfoodfacts.org/product/3248...</td>\n",
       "      <td>kiliweb</td>\n",
       "      <td>1521279514</td>\n",
       "      <td>2018-03-17T09:38:34Z</td>\n",
       "      <td>1547407932</td>\n",
       "      <td>2019-01-13T19:32:12Z</td>\n",
       "      <td>Pate feuilletee</td>\n",
       "      <td>NaN</td>\n",
       "      <td>NaN</td>\n",
       "      <td>...</td>\n",
       "      <td>21.40</td>\n",
       "      <td>9.90</td>\n",
       "      <td>35.20</td>\n",
       "      <td>0.80</td>\n",
       "      <td>NaN</td>\n",
       "      <td>5.50</td>\n",
       "      <td>1.400000</td>\n",
       "      <td>0.560000</td>\n",
       "      <td>25.0</td>\n",
       "      <td>25.0</td>\n",
       "    </tr>\n",
       "    <tr>\n",
       "      <td>399521</td>\n",
       "      <td>3255290253750</td>\n",
       "      <td>http://world-en.openfoodfacts.org/product/3255...</td>\n",
       "      <td>kiliweb</td>\n",
       "      <td>1554301543</td>\n",
       "      <td>2019-04-03T14:25:43Z</td>\n",
       "      <td>1565531612</td>\n",
       "      <td>2019-08-11T13:53:32Z</td>\n",
       "      <td>Madeleines bio chocolat</td>\n",
       "      <td>NaN</td>\n",
       "      <td>NaN</td>\n",
       "      <td>...</td>\n",
       "      <td>18.10</td>\n",
       "      <td>2.50</td>\n",
       "      <td>59.40</td>\n",
       "      <td>37.50</td>\n",
       "      <td>NaN</td>\n",
       "      <td>5.62</td>\n",
       "      <td>0.781000</td>\n",
       "      <td>0.312000</td>\n",
       "      <td>23.0</td>\n",
       "      <td>23.0</td>\n",
       "    </tr>\n",
       "    <tr>\n",
       "      <td>461722</td>\n",
       "      <td>3333680004059</td>\n",
       "      <td>http://world-en.openfoodfacts.org/product/3333...</td>\n",
       "      <td>openfoodfacts-contributors</td>\n",
       "      <td>1568131541</td>\n",
       "      <td>2019-09-10T16:05:41Z</td>\n",
       "      <td>1568132300</td>\n",
       "      <td>2019-09-10T16:18:20Z</td>\n",
       "      <td>PAVE NATURE</td>\n",
       "      <td>5 tranches</td>\n",
       "      <td>NaN</td>\n",
       "      <td>...</td>\n",
       "      <td>28.00</td>\n",
       "      <td>11.00</td>\n",
       "      <td>1.00</td>\n",
       "      <td>1.00</td>\n",
       "      <td>NaN</td>\n",
       "      <td>26.00</td>\n",
       "      <td>4.300000</td>\n",
       "      <td>1.720000</td>\n",
       "      <td>30.0</td>\n",
       "      <td>30.0</td>\n",
       "    </tr>\n",
       "    <tr>\n",
       "      <td>465581</td>\n",
       "      <td>3341504004802</td>\n",
       "      <td>http://world-en.openfoodfacts.org/product/3341...</td>\n",
       "      <td>billoute720</td>\n",
       "      <td>1481710850</td>\n",
       "      <td>2016-12-14T10:20:50Z</td>\n",
       "      <td>1570450500</td>\n",
       "      <td>2019-10-07T12:15:00Z</td>\n",
       "      <td>Saint Agur +15% gratuit</td>\n",
       "      <td>155.25 g</td>\n",
       "      <td>Couvercle,Barquette,Film,Plastique</td>\n",
       "      <td>...</td>\n",
       "      <td>33.00</td>\n",
       "      <td>23.00</td>\n",
       "      <td>0.50</td>\n",
       "      <td>0.50</td>\n",
       "      <td>NaN</td>\n",
       "      <td>16.00</td>\n",
       "      <td>2.200000</td>\n",
       "      <td>0.880000</td>\n",
       "      <td>24.0</td>\n",
       "      <td>29.0</td>\n",
       "    </tr>\n",
       "    <tr>\n",
       "      <td>465582</td>\n",
       "      <td>3341504004826</td>\n",
       "      <td>http://world-en.openfoodfacts.org/product/3341...</td>\n",
       "      <td>openfoodfacts-contributors</td>\n",
       "      <td>1485024151</td>\n",
       "      <td>2017-01-21T18:42:31Z</td>\n",
       "      <td>1549971258</td>\n",
       "      <td>2019-02-12T11:34:18Z</td>\n",
       "      <td>Offre plaisir</td>\n",
       "      <td>135g</td>\n",
       "      <td>Frais</td>\n",
       "      <td>...</td>\n",
       "      <td>33.00</td>\n",
       "      <td>23.00</td>\n",
       "      <td>0.50</td>\n",
       "      <td>0.50</td>\n",
       "      <td>0.00</td>\n",
       "      <td>16.00</td>\n",
       "      <td>2.200000</td>\n",
       "      <td>0.880000</td>\n",
       "      <td>24.0</td>\n",
       "      <td>29.0</td>\n",
       "    </tr>\n",
       "    <tr>\n",
       "      <td>483718</td>\n",
       "      <td>3389683001335</td>\n",
       "      <td>http://world-en.openfoodfacts.org/product/3389...</td>\n",
       "      <td>openfoodfacts-contributors</td>\n",
       "      <td>1558637986</td>\n",
       "      <td>2019-05-23T18:59:46Z</td>\n",
       "      <td>1558638290</td>\n",
       "      <td>2019-05-23T19:04:50Z</td>\n",
       "      <td>Brisure infusion miel</td>\n",
       "      <td>250g</td>\n",
       "      <td>miel</td>\n",
       "      <td>...</td>\n",
       "      <td>0.00</td>\n",
       "      <td>0.00</td>\n",
       "      <td>98.00</td>\n",
       "      <td>77.00</td>\n",
       "      <td>NaN</td>\n",
       "      <td>0.00</td>\n",
       "      <td>0.000000</td>\n",
       "      <td>0.000000</td>\n",
       "      <td>20.0</td>\n",
       "      <td>20.0</td>\n",
       "    </tr>\n",
       "    <tr>\n",
       "      <td>596744</td>\n",
       "      <td>3760052696930</td>\n",
       "      <td>http://world-en.openfoodfacts.org/product/3760...</td>\n",
       "      <td>alainm</td>\n",
       "      <td>1546766305</td>\n",
       "      <td>2019-01-06T09:18:25Z</td>\n",
       "      <td>1546766920</td>\n",
       "      <td>2019-01-06T09:28:40Z</td>\n",
       "      <td>chocolat noir coulis yuzu</td>\n",
       "      <td>100g</td>\n",
       "      <td>pochette</td>\n",
       "      <td>...</td>\n",
       "      <td>30.70</td>\n",
       "      <td>18.40</td>\n",
       "      <td>39.80</td>\n",
       "      <td>20.50</td>\n",
       "      <td>NaN</td>\n",
       "      <td>5.31</td>\n",
       "      <td>0.018000</td>\n",
       "      <td>0.007200</td>\n",
       "      <td>24.0</td>\n",
       "      <td>24.0</td>\n",
       "    </tr>\n",
       "    <tr>\n",
       "      <td>643381</td>\n",
       "      <td>4000539229800</td>\n",
       "      <td>http://world-en.openfoodfacts.org/product/4000...</td>\n",
       "      <td>openfoodfacts-contributors</td>\n",
       "      <td>1545289205</td>\n",
       "      <td>2018-12-20T07:00:05Z</td>\n",
       "      <td>1560890812</td>\n",
       "      <td>2019-06-18T20:46:52Z</td>\n",
       "      <td>Lindt Hello Strawberry Cheesecake</td>\n",
       "      <td>100g</td>\n",
       "      <td>100g</td>\n",
       "      <td>...</td>\n",
       "      <td>34.00</td>\n",
       "      <td>20.00</td>\n",
       "      <td>53.00</td>\n",
       "      <td>52.00</td>\n",
       "      <td>NaN</td>\n",
       "      <td>7.30</td>\n",
       "      <td>0.250000</td>\n",
       "      <td>0.100000</td>\n",
       "      <td>31.0</td>\n",
       "      <td>31.0</td>\n",
       "    </tr>\n",
       "    <tr>\n",
       "      <td>655325</td>\n",
       "      <td>4009900527644</td>\n",
       "      <td>http://world-en.openfoodfacts.org/product/4009...</td>\n",
       "      <td>kiliweb</td>\n",
       "      <td>1538574375</td>\n",
       "      <td>2018-10-03T13:46:15Z</td>\n",
       "      <td>1552773133</td>\n",
       "      <td>2019-03-16T21:52:13Z</td>\n",
       "      <td>Skittles Chewies</td>\n",
       "      <td>300</td>\n",
       "      <td>NaN</td>\n",
       "      <td>...</td>\n",
       "      <td>5.83</td>\n",
       "      <td>3.26</td>\n",
       "      <td>86.20</td>\n",
       "      <td>85.30</td>\n",
       "      <td>NaN</td>\n",
       "      <td>0.00</td>\n",
       "      <td>0.000000</td>\n",
       "      <td>0.000000</td>\n",
       "      <td>23.0</td>\n",
       "      <td>23.0</td>\n",
       "    </tr>\n",
       "    <tr>\n",
       "      <td>656469</td>\n",
       "      <td>4010955135258</td>\n",
       "      <td>http://world-en.openfoodfacts.org/product/4010...</td>\n",
       "      <td>predatorix</td>\n",
       "      <td>1569088345</td>\n",
       "      <td>2019-09-21T17:52:25Z</td>\n",
       "      <td>1569088743</td>\n",
       "      <td>2019-09-21T17:59:03Z</td>\n",
       "      <td>Odenwälder Marzipan Königsberger Bruch, geflämmt</td>\n",
       "      <td>250 g</td>\n",
       "      <td>Kunststofftüte</td>\n",
       "      <td>...</td>\n",
       "      <td>20.50</td>\n",
       "      <td>2.00</td>\n",
       "      <td>55.10</td>\n",
       "      <td>50.20</td>\n",
       "      <td>NaN</td>\n",
       "      <td>9.20</td>\n",
       "      <td>0.010000</td>\n",
       "      <td>0.004000</td>\n",
       "      <td>21.0</td>\n",
       "      <td>21.0</td>\n",
       "    </tr>\n",
       "    <tr>\n",
       "      <td>658911</td>\n",
       "      <td>4014400926019</td>\n",
       "      <td>http://world-en.openfoodfacts.org/product/4014...</td>\n",
       "      <td>openfoodfacts-contributors</td>\n",
       "      <td>1570266350</td>\n",
       "      <td>2019-10-05T09:05:50Z</td>\n",
       "      <td>1570267121</td>\n",
       "      <td>2019-10-05T09:18:41Z</td>\n",
       "      <td>ICE fresh</td>\n",
       "      <td>415 g</td>\n",
       "      <td>NaN</td>\n",
       "      <td>...</td>\n",
       "      <td>0.10</td>\n",
       "      <td>0.10</td>\n",
       "      <td>95.90</td>\n",
       "      <td>71.90</td>\n",
       "      <td>NaN</td>\n",
       "      <td>0.10</td>\n",
       "      <td>0.020000</td>\n",
       "      <td>0.008000</td>\n",
       "      <td>20.0</td>\n",
       "      <td>20.0</td>\n",
       "    </tr>\n",
       "    <tr>\n",
       "      <td>682439</td>\n",
       "      <td>4260206920144</td>\n",
       "      <td>http://world-en.openfoodfacts.org/product/4260...</td>\n",
       "      <td>openfoodfacts-contributors</td>\n",
       "      <td>1561303798</td>\n",
       "      <td>2019-06-23T15:29:58Z</td>\n",
       "      <td>1561304531</td>\n",
       "      <td>2019-06-23T15:42:11Z</td>\n",
       "      <td>Meisterkreide</td>\n",
       "      <td>100 g</td>\n",
       "      <td>Beutel</td>\n",
       "      <td>...</td>\n",
       "      <td>1.54</td>\n",
       "      <td>1.41</td>\n",
       "      <td>85.30</td>\n",
       "      <td>73.50</td>\n",
       "      <td>NaN</td>\n",
       "      <td>1.81</td>\n",
       "      <td>0.000000</td>\n",
       "      <td>0.000000</td>\n",
       "      <td>21.0</td>\n",
       "      <td>21.0</td>\n",
       "    </tr>\n",
       "    <tr>\n",
       "      <td>697840</td>\n",
       "      <td>4750001000337</td>\n",
       "      <td>http://world-en.openfoodfacts.org/product/4750...</td>\n",
       "      <td>openfoodfacts-contributors</td>\n",
       "      <td>1558633229</td>\n",
       "      <td>2019-05-23T17:40:29Z</td>\n",
       "      <td>1558636725</td>\n",
       "      <td>2019-05-23T18:38:45Z</td>\n",
       "      <td>Serenāde</td>\n",
       "      <td>450 g</td>\n",
       "      <td>boite</td>\n",
       "      <td>...</td>\n",
       "      <td>21.00</td>\n",
       "      <td>6.80</td>\n",
       "      <td>61.00</td>\n",
       "      <td>56.00</td>\n",
       "      <td>0.00</td>\n",
       "      <td>6.20</td>\n",
       "      <td>0.020000</td>\n",
       "      <td>0.008000</td>\n",
       "      <td>26.0</td>\n",
       "      <td>26.0</td>\n",
       "    </tr>\n",
       "    <tr>\n",
       "      <td>703611</td>\n",
       "      <td>5000128981255</td>\n",
       "      <td>http://world-en.openfoodfacts.org/product/5000...</td>\n",
       "      <td>kiliweb</td>\n",
       "      <td>1563960643</td>\n",
       "      <td>2019-07-24T09:30:43Z</td>\n",
       "      <td>1569691254</td>\n",
       "      <td>2019-09-28T17:20:54Z</td>\n",
       "      <td>Dark chocolate with orange</td>\n",
       "      <td>NaN</td>\n",
       "      <td>NaN</td>\n",
       "      <td>...</td>\n",
       "      <td>33.00</td>\n",
       "      <td>19.00</td>\n",
       "      <td>53.00</td>\n",
       "      <td>43.00</td>\n",
       "      <td>6.30</td>\n",
       "      <td>5.30</td>\n",
       "      <td>0.010000</td>\n",
       "      <td>0.004000</td>\n",
       "      <td>24.0</td>\n",
       "      <td>24.0</td>\n",
       "    </tr>\n",
       "    <tr>\n",
       "      <td>706990</td>\n",
       "      <td>5000328807485</td>\n",
       "      <td>http://world-en.openfoodfacts.org/product/5000...</td>\n",
       "      <td>openfoodfacts-contributors</td>\n",
       "      <td>1565463615</td>\n",
       "      <td>2019-08-10T19:00:15Z</td>\n",
       "      <td>1565463751</td>\n",
       "      <td>2019-08-10T19:02:31Z</td>\n",
       "      <td>NaN</td>\n",
       "      <td>150g</td>\n",
       "      <td>NaN</td>\n",
       "      <td>...</td>\n",
       "      <td>32.60</td>\n",
       "      <td>2.70</td>\n",
       "      <td>51.20</td>\n",
       "      <td>0.00</td>\n",
       "      <td>0.00</td>\n",
       "      <td>2.00</td>\n",
       "      <td>1.630000</td>\n",
       "      <td>0.652000</td>\n",
       "      <td>19.0</td>\n",
       "      <td>19.0</td>\n",
       "    </tr>\n",
       "    <tr>\n",
       "      <td>775267</td>\n",
       "      <td>5690576270188</td>\n",
       "      <td>http://world-en.openfoodfacts.org/product/5690...</td>\n",
       "      <td>openfoodfacts-contributors</td>\n",
       "      <td>1542303414</td>\n",
       "      <td>2018-11-15T17:36:54Z</td>\n",
       "      <td>1558797410</td>\n",
       "      <td>2019-05-25T15:16:50Z</td>\n",
       "      <td>Traditional Icelandic Chocolate</td>\n",
       "      <td>100g</td>\n",
       "      <td>Tablette</td>\n",
       "      <td>...</td>\n",
       "      <td>32.00</td>\n",
       "      <td>21.00</td>\n",
       "      <td>55.00</td>\n",
       "      <td>53.00</td>\n",
       "      <td>NaN</td>\n",
       "      <td>8.00</td>\n",
       "      <td>1.500000</td>\n",
       "      <td>0.600000</td>\n",
       "      <td>36.0</td>\n",
       "      <td>36.0</td>\n",
       "    </tr>\n",
       "    <tr>\n",
       "      <td>784404</td>\n",
       "      <td>5998200743085</td>\n",
       "      <td>http://world-en.openfoodfacts.org/product/5998...</td>\n",
       "      <td>rapiteanu</td>\n",
       "      <td>1569951688</td>\n",
       "      <td>2019-10-01T17:41:28Z</td>\n",
       "      <td>1570369974</td>\n",
       "      <td>2019-10-06T13:52:54Z</td>\n",
       "      <td>Uriaș Dots Natur</td>\n",
       "      <td>51 g</td>\n",
       "      <td>NaN</td>\n",
       "      <td>...</td>\n",
       "      <td>18.00</td>\n",
       "      <td>14.00</td>\n",
       "      <td>39.00</td>\n",
       "      <td>37.00</td>\n",
       "      <td>0.60</td>\n",
       "      <td>10.00</td>\n",
       "      <td>0.140000</td>\n",
       "      <td>0.056000</td>\n",
       "      <td>28.0</td>\n",
       "      <td>28.0</td>\n",
       "    </tr>\n",
       "    <tr>\n",
       "      <td>784411</td>\n",
       "      <td>5998200746888</td>\n",
       "      <td>http://world-en.openfoodfacts.org/product/5998...</td>\n",
       "      <td>hunsly</td>\n",
       "      <td>1539261066</td>\n",
       "      <td>2018-10-11T12:31:06Z</td>\n",
       "      <td>1539261696</td>\n",
       "      <td>2018-10-11T12:41:36Z</td>\n",
       "      <td>Óriás pöttyös túrórudi, mogyorókrémes</td>\n",
       "      <td>51 g</td>\n",
       "      <td>NaN</td>\n",
       "      <td>...</td>\n",
       "      <td>23.00</td>\n",
       "      <td>16.00</td>\n",
       "      <td>43.00</td>\n",
       "      <td>40.00</td>\n",
       "      <td>NaN</td>\n",
       "      <td>8.10</td>\n",
       "      <td>0.100000</td>\n",
       "      <td>0.040000</td>\n",
       "      <td>28.0</td>\n",
       "      <td>28.0</td>\n",
       "    </tr>\n",
       "    <tr>\n",
       "      <td>784643</td>\n",
       "      <td>5999033865180</td>\n",
       "      <td>http://world-en.openfoodfacts.org/product/5999...</td>\n",
       "      <td>hunsly</td>\n",
       "      <td>1539864659</td>\n",
       "      <td>2018-10-18T12:10:59Z</td>\n",
       "      <td>1539864947</td>\n",
       "      <td>2018-10-18T12:15:47Z</td>\n",
       "      <td>Spar Rudi</td>\n",
       "      <td>51 g</td>\n",
       "      <td>NaN</td>\n",
       "      <td>...</td>\n",
       "      <td>18.00</td>\n",
       "      <td>15.00</td>\n",
       "      <td>39.00</td>\n",
       "      <td>36.00</td>\n",
       "      <td>1.30</td>\n",
       "      <td>10.00</td>\n",
       "      <td>0.110000</td>\n",
       "      <td>0.044000</td>\n",
       "      <td>26.0</td>\n",
       "      <td>26.0</td>\n",
       "    </tr>\n",
       "    <tr>\n",
       "      <td>784699</td>\n",
       "      <td>5999033875622</td>\n",
       "      <td>http://world-en.openfoodfacts.org/product/5999...</td>\n",
       "      <td>hunsly</td>\n",
       "      <td>1540135004</td>\n",
       "      <td>2018-10-21T15:16:44Z</td>\n",
       "      <td>1540135437</td>\n",
       "      <td>2018-10-21T15:23:57Z</td>\n",
       "      <td>Márványos vajkrém</td>\n",
       "      <td>250 g</td>\n",
       "      <td>PP, Műanyag</td>\n",
       "      <td>...</td>\n",
       "      <td>40.00</td>\n",
       "      <td>27.00</td>\n",
       "      <td>4.70</td>\n",
       "      <td>3.90</td>\n",
       "      <td>NaN</td>\n",
       "      <td>3.10</td>\n",
       "      <td>0.710000</td>\n",
       "      <td>0.284000</td>\n",
       "      <td>23.0</td>\n",
       "      <td>23.0</td>\n",
       "    </tr>\n",
       "    <tr>\n",
       "      <td>785317</td>\n",
       "      <td>5999882378015</td>\n",
       "      <td>http://world-en.openfoodfacts.org/product/5999...</td>\n",
       "      <td>hunsly</td>\n",
       "      <td>1563438799</td>\n",
       "      <td>2019-07-18T08:33:19Z</td>\n",
       "      <td>1563439151</td>\n",
       "      <td>2019-07-18T08:39:11Z</td>\n",
       "      <td>Mézes málna szörp</td>\n",
       "      <td>500 ml</td>\n",
       "      <td>üveg,papír,műanyag</td>\n",
       "      <td>...</td>\n",
       "      <td>0.00</td>\n",
       "      <td>0.00</td>\n",
       "      <td>85.00</td>\n",
       "      <td>85.00</td>\n",
       "      <td>0.00</td>\n",
       "      <td>0.00</td>\n",
       "      <td>0.000000</td>\n",
       "      <td>0.000000</td>\n",
       "      <td>20.0</td>\n",
       "      <td>20.0</td>\n",
       "    </tr>\n",
       "    <tr>\n",
       "      <td>792105</td>\n",
       "      <td>6191595101655</td>\n",
       "      <td>http://world-en.openfoodfacts.org/product/6191...</td>\n",
       "      <td>openfoodfacts-contributors</td>\n",
       "      <td>1548197562</td>\n",
       "      <td>2019-01-22T22:52:42Z</td>\n",
       "      <td>1548198247</td>\n",
       "      <td>2019-01-22T23:04:07Z</td>\n",
       "      <td>st michel la galette cacaotee fourré</td>\n",
       "      <td>120g</td>\n",
       "      <td>NaN</td>\n",
       "      <td>...</td>\n",
       "      <td>17.00</td>\n",
       "      <td>10.00</td>\n",
       "      <td>70.00</td>\n",
       "      <td>25.00</td>\n",
       "      <td>0.00</td>\n",
       "      <td>7.00</td>\n",
       "      <td>1.000000</td>\n",
       "      <td>0.400000</td>\n",
       "      <td>28.0</td>\n",
       "      <td>28.0</td>\n",
       "    </tr>\n",
       "    <tr>\n",
       "      <td>804723</td>\n",
       "      <td>7350027793915</td>\n",
       "      <td>http://world-en.openfoodfacts.org/product/7350...</td>\n",
       "      <td>fiete-69</td>\n",
       "      <td>1553703785</td>\n",
       "      <td>2019-03-27T16:23:05Z</td>\n",
       "      <td>1553704295</td>\n",
       "      <td>2019-03-27T16:31:35Z</td>\n",
       "      <td>NaN</td>\n",
       "      <td>170g</td>\n",
       "      <td>NaN</td>\n",
       "      <td>...</td>\n",
       "      <td>33.00</td>\n",
       "      <td>12.00</td>\n",
       "      <td>0.90</td>\n",
       "      <td>0.50</td>\n",
       "      <td>NaN</td>\n",
       "      <td>30.00</td>\n",
       "      <td>4.100000</td>\n",
       "      <td>1.640000</td>\n",
       "      <td>30.0</td>\n",
       "      <td>30.0</td>\n",
       "    </tr>\n",
       "    <tr>\n",
       "      <td>806528</td>\n",
       "      <td>7501000601776</td>\n",
       "      <td>http://world-en.openfoodfacts.org/product/7501...</td>\n",
       "      <td>elcoco</td>\n",
       "      <td>1562356139</td>\n",
       "      <td>2019-07-05T19:48:59Z</td>\n",
       "      <td>1567263373</td>\n",
       "      <td>2019-08-31T14:56:13Z</td>\n",
       "      <td>NaN</td>\n",
       "      <td>NaN</td>\n",
       "      <td>NaN</td>\n",
       "      <td>...</td>\n",
       "      <td>23.30</td>\n",
       "      <td>10.00</td>\n",
       "      <td>63.30</td>\n",
       "      <td>33.30</td>\n",
       "      <td>3.33</td>\n",
       "      <td>3.33</td>\n",
       "      <td>0.864000</td>\n",
       "      <td>0.345000</td>\n",
       "      <td>26.0</td>\n",
       "      <td>26.0</td>\n",
       "    </tr>\n",
       "    <tr>\n",
       "      <td>826519</td>\n",
       "      <td>7613036827942</td>\n",
       "      <td>http://world-en.openfoodfacts.org/product/7613...</td>\n",
       "      <td>kiliweb</td>\n",
       "      <td>1554409223</td>\n",
       "      <td>2019-04-04T20:20:23Z</td>\n",
       "      <td>1565795602</td>\n",
       "      <td>2019-08-14T15:13:22Z</td>\n",
       "      <td>Ma tarte facile</td>\n",
       "      <td>240 g</td>\n",
       "      <td>1</td>\n",
       "      <td>...</td>\n",
       "      <td>23.47</td>\n",
       "      <td>9.89</td>\n",
       "      <td>37.70</td>\n",
       "      <td>1.50</td>\n",
       "      <td>2.14</td>\n",
       "      <td>5.87</td>\n",
       "      <td>1.120000</td>\n",
       "      <td>0.448000</td>\n",
       "      <td>21.0</td>\n",
       "      <td>21.0</td>\n",
       "    </tr>\n",
       "    <tr>\n",
       "      <td>830528</td>\n",
       "      <td>7613312206515</td>\n",
       "      <td>http://world-en.openfoodfacts.org/product/7613...</td>\n",
       "      <td>openfoodfacts-contributors</td>\n",
       "      <td>1542458986</td>\n",
       "      <td>2018-11-17T12:49:46Z</td>\n",
       "      <td>1542459524</td>\n",
       "      <td>2018-11-17T12:58:44Z</td>\n",
       "      <td>Tranches a la cannelle</td>\n",
       "      <td>405g</td>\n",
       "      <td>NaN</td>\n",
       "      <td>...</td>\n",
       "      <td>14.00</td>\n",
       "      <td>3.50</td>\n",
       "      <td>56.00</td>\n",
       "      <td>36.00</td>\n",
       "      <td>3.50</td>\n",
       "      <td>5.90</td>\n",
       "      <td>0.550000</td>\n",
       "      <td>0.220000</td>\n",
       "      <td>19.0</td>\n",
       "      <td>19.0</td>\n",
       "    </tr>\n",
       "    <tr>\n",
       "      <td>831366</td>\n",
       "      <td>7613331747129</td>\n",
       "      <td>http://world-en.openfoodfacts.org/product/7613...</td>\n",
       "      <td>kiliweb</td>\n",
       "      <td>1542438942</td>\n",
       "      <td>2018-11-17T07:15:42Z</td>\n",
       "      <td>1548771927</td>\n",
       "      <td>2019-01-29T14:25:27Z</td>\n",
       "      <td>Crunchy Edamame</td>\n",
       "      <td>21 g</td>\n",
       "      <td>NaN</td>\n",
       "      <td>...</td>\n",
       "      <td>52.40</td>\n",
       "      <td>7.14</td>\n",
       "      <td>61.90</td>\n",
       "      <td>14.30</td>\n",
       "      <td>129.00</td>\n",
       "      <td>190.00</td>\n",
       "      <td>1.900000</td>\n",
       "      <td>0.762000</td>\n",
       "      <td>23.0</td>\n",
       "      <td>23.0</td>\n",
       "    </tr>\n",
       "    <tr>\n",
       "      <td>846999</td>\n",
       "      <td>7861001236712</td>\n",
       "      <td>http://world-en.openfoodfacts.org/product/7861...</td>\n",
       "      <td>kiliweb</td>\n",
       "      <td>1550964665</td>\n",
       "      <td>2019-02-23T23:31:05Z</td>\n",
       "      <td>1551006067</td>\n",
       "      <td>2019-02-24T11:01:07Z</td>\n",
       "      <td>Chocolate blanco con leche y arroz crocante</td>\n",
       "      <td>NaN</td>\n",
       "      <td>NaN</td>\n",
       "      <td>...</td>\n",
       "      <td>33.00</td>\n",
       "      <td>20.50</td>\n",
       "      <td>54.60</td>\n",
       "      <td>49.70</td>\n",
       "      <td>1.60</td>\n",
       "      <td>8.50</td>\n",
       "      <td>0.292862</td>\n",
       "      <td>0.000117</td>\n",
       "      <td>29.0</td>\n",
       "      <td>29.0</td>\n",
       "    </tr>\n",
       "    <tr>\n",
       "      <td>881897</td>\n",
       "      <td>80805076</td>\n",
       "      <td>http://world-en.openfoodfacts.org/product/8080...</td>\n",
       "      <td>openfoodfacts-contributors</td>\n",
       "      <td>1541035533</td>\n",
       "      <td>2018-11-01T01:25:33Z</td>\n",
       "      <td>1541035820</td>\n",
       "      <td>2018-11-01T01:30:20Z</td>\n",
       "      <td>DACO BELLO</td>\n",
       "      <td>200g</td>\n",
       "      <td>Sachet refermable</td>\n",
       "      <td>...</td>\n",
       "      <td>18.00</td>\n",
       "      <td>2.00</td>\n",
       "      <td>50.00</td>\n",
       "      <td>45.00</td>\n",
       "      <td>4.00</td>\n",
       "      <td>10.00</td>\n",
       "      <td>1.000000</td>\n",
       "      <td>0.400000</td>\n",
       "      <td>20.0</td>\n",
       "      <td>20.0</td>\n",
       "    </tr>\n",
       "    <tr>\n",
       "      <td>903975</td>\n",
       "      <td>8412505002007</td>\n",
       "      <td>http://world-en.openfoodfacts.org/product/8412...</td>\n",
       "      <td>kakao</td>\n",
       "      <td>1481635189</td>\n",
       "      <td>2016-12-13T13:19:49Z</td>\n",
       "      <td>1562072636</td>\n",
       "      <td>2019-07-02T13:03:56Z</td>\n",
       "      <td>Bienmesabe</td>\n",
       "      <td>400 g</td>\n",
       "      <td>Glas,Verre,métal</td>\n",
       "      <td>...</td>\n",
       "      <td>23.70</td>\n",
       "      <td>2.21</td>\n",
       "      <td>48.40</td>\n",
       "      <td>28.10</td>\n",
       "      <td>NaN</td>\n",
       "      <td>8.50</td>\n",
       "      <td>0.240000</td>\n",
       "      <td>0.096000</td>\n",
       "      <td>19.0</td>\n",
       "      <td>19.0</td>\n",
       "    </tr>\n",
       "    <tr>\n",
       "      <td>964243</td>\n",
       "      <td>8690504009207</td>\n",
       "      <td>http://world-en.openfoodfacts.org/product/8690...</td>\n",
       "      <td>openfoodfacts-contributors</td>\n",
       "      <td>1555614649</td>\n",
       "      <td>2019-04-18T19:10:49Z</td>\n",
       "      <td>1563351135</td>\n",
       "      <td>2019-07-17T08:12:15Z</td>\n",
       "      <td>Çizi</td>\n",
       "      <td>63</td>\n",
       "      <td>NaN</td>\n",
       "      <td>...</td>\n",
       "      <td>20.00</td>\n",
       "      <td>10.00</td>\n",
       "      <td>61.00</td>\n",
       "      <td>6.00</td>\n",
       "      <td>3.00</td>\n",
       "      <td>7.00</td>\n",
       "      <td>0.900000</td>\n",
       "      <td>0.360000</td>\n",
       "      <td>20.0</td>\n",
       "      <td>20.0</td>\n",
       "    </tr>\n",
       "    <tr>\n",
       "      <td>998840</td>\n",
       "      <td>9002859100536</td>\n",
       "      <td>http://world-en.openfoodfacts.org/product/9002...</td>\n",
       "      <td>kakao</td>\n",
       "      <td>1504109748</td>\n",
       "      <td>2017-08-30T16:15:48Z</td>\n",
       "      <td>1563432810</td>\n",
       "      <td>2019-07-18T06:53:30Z</td>\n",
       "      <td>Mozartsticks</td>\n",
       "      <td>200 g</td>\n",
       "      <td>Karton,Kunststoff,21 PAP</td>\n",
       "      <td>...</td>\n",
       "      <td>29.00</td>\n",
       "      <td>16.00</td>\n",
       "      <td>56.00</td>\n",
       "      <td>53.00</td>\n",
       "      <td>NaN</td>\n",
       "      <td>4.00</td>\n",
       "      <td>0.090000</td>\n",
       "      <td>0.036000</td>\n",
       "      <td>30.0</td>\n",
       "      <td>30.0</td>\n",
       "    </tr>\n",
       "    <tr>\n",
       "      <td>1004507</td>\n",
       "      <td>9310175140113</td>\n",
       "      <td>http://world-en.openfoodfacts.org/product/9310...</td>\n",
       "      <td>openfoodfacts-contributors</td>\n",
       "      <td>1543449976</td>\n",
       "      <td>2018-11-29T00:06:16Z</td>\n",
       "      <td>1543450222</td>\n",
       "      <td>2018-11-29T00:10:22Z</td>\n",
       "      <td>grissini italian breadsticks</td>\n",
       "      <td>NaN</td>\n",
       "      <td>NaN</td>\n",
       "      <td>...</td>\n",
       "      <td>8.70</td>\n",
       "      <td>1.30</td>\n",
       "      <td>70.60</td>\n",
       "      <td>2.80</td>\n",
       "      <td>NaN</td>\n",
       "      <td>11.90</td>\n",
       "      <td>1200.000000</td>\n",
       "      <td>480.000000</td>\n",
       "      <td>21.0</td>\n",
       "      <td>21.0</td>\n",
       "    </tr>\n",
       "    <tr>\n",
       "      <td>1006526</td>\n",
       "      <td>93450669</td>\n",
       "      <td>http://world-en.openfoodfacts.org/product/9345...</td>\n",
       "      <td>openfoodfacts-contributors</td>\n",
       "      <td>1479880960</td>\n",
       "      <td>2016-11-23T06:02:40Z</td>\n",
       "      <td>1562121134</td>\n",
       "      <td>2019-07-03T02:32:14Z</td>\n",
       "      <td>Macadamia Hazelnut with Peanuts and Seeds Bar</td>\n",
       "      <td>45g</td>\n",
       "      <td>Clear front</td>\n",
       "      <td>...</td>\n",
       "      <td>18.20</td>\n",
       "      <td>2.60</td>\n",
       "      <td>13.20</td>\n",
       "      <td>9.70</td>\n",
       "      <td>3.10</td>\n",
       "      <td>6.00</td>\n",
       "      <td>15.240000</td>\n",
       "      <td>6.096000</td>\n",
       "      <td>21.0</td>\n",
       "      <td>21.0</td>\n",
       "    </tr>\n",
       "  </tbody>\n",
       "</table>\n",
       "<p>54 rows × 57 columns</p>\n",
       "</div>"
      ],
      "text/plain": [
       "                  code                                                url  \\\n",
       "11965      11863118764  http://world-en.openfoodfacts.org/product/0011...   \n",
       "84114           680813  http://world-en.openfoodfacts.org/product/0068...   \n",
       "104356     74323046199  http://world-en.openfoodfacts.org/product/0074...   \n",
       "114462     77975089156  http://world-en.openfoodfacts.org/product/0077...   \n",
       "116531     78742085296  http://world-en.openfoodfacts.org/product/0078...   \n",
       "117762     78742283357  http://world-en.openfoodfacts.org/product/0078...   \n",
       "129317     94331410560  http://world-en.openfoodfacts.org/product/0094...   \n",
       "134186        01442830  http://world-en.openfoodfacts.org/product/0144...   \n",
       "139857   0202459022309  http://world-en.openfoodfacts.org/product/0202...   \n",
       "176137    654858703882  http://world-en.openfoodfacts.org/product/0654...   \n",
       "238167        09359604  http://world-en.openfoodfacts.org/product/0935...   \n",
       "239708        11110217  http://world-en.openfoodfacts.org/product/1111...   \n",
       "242056        13928193  http://world-en.openfoodfacts.org/product/1392...   \n",
       "243196        15940278  http://world-en.openfoodfacts.org/product/1594...   \n",
       "276525   2200389002383  http://world-en.openfoodfacts.org/product/2200...   \n",
       "286795   2266198023551  http://world-en.openfoodfacts.org/product/2266...   \n",
       "314562   2609713037006  http://world-en.openfoodfacts.org/product/2609...   \n",
       "328291        29064373  http://world-en.openfoodfacts.org/product/2906...   \n",
       "351777   3103220041123  http://world-en.openfoodfacts.org/product/3103...   \n",
       "378632   3228022000298  http://world-en.openfoodfacts.org/product/3228...   \n",
       "386692   3248833701351  http://world-en.openfoodfacts.org/product/3248...   \n",
       "399521   3255290253750  http://world-en.openfoodfacts.org/product/3255...   \n",
       "461722   3333680004059  http://world-en.openfoodfacts.org/product/3333...   \n",
       "465581   3341504004802  http://world-en.openfoodfacts.org/product/3341...   \n",
       "465582   3341504004826  http://world-en.openfoodfacts.org/product/3341...   \n",
       "483718   3389683001335  http://world-en.openfoodfacts.org/product/3389...   \n",
       "596744   3760052696930  http://world-en.openfoodfacts.org/product/3760...   \n",
       "643381   4000539229800  http://world-en.openfoodfacts.org/product/4000...   \n",
       "655325   4009900527644  http://world-en.openfoodfacts.org/product/4009...   \n",
       "656469   4010955135258  http://world-en.openfoodfacts.org/product/4010...   \n",
       "658911   4014400926019  http://world-en.openfoodfacts.org/product/4014...   \n",
       "682439   4260206920144  http://world-en.openfoodfacts.org/product/4260...   \n",
       "697840   4750001000337  http://world-en.openfoodfacts.org/product/4750...   \n",
       "703611   5000128981255  http://world-en.openfoodfacts.org/product/5000...   \n",
       "706990   5000328807485  http://world-en.openfoodfacts.org/product/5000...   \n",
       "775267   5690576270188  http://world-en.openfoodfacts.org/product/5690...   \n",
       "784404   5998200743085  http://world-en.openfoodfacts.org/product/5998...   \n",
       "784411   5998200746888  http://world-en.openfoodfacts.org/product/5998...   \n",
       "784643   5999033865180  http://world-en.openfoodfacts.org/product/5999...   \n",
       "784699   5999033875622  http://world-en.openfoodfacts.org/product/5999...   \n",
       "785317   5999882378015  http://world-en.openfoodfacts.org/product/5999...   \n",
       "792105   6191595101655  http://world-en.openfoodfacts.org/product/6191...   \n",
       "804723   7350027793915  http://world-en.openfoodfacts.org/product/7350...   \n",
       "806528   7501000601776  http://world-en.openfoodfacts.org/product/7501...   \n",
       "826519   7613036827942  http://world-en.openfoodfacts.org/product/7613...   \n",
       "830528   7613312206515  http://world-en.openfoodfacts.org/product/7613...   \n",
       "831366   7613331747129  http://world-en.openfoodfacts.org/product/7613...   \n",
       "846999   7861001236712  http://world-en.openfoodfacts.org/product/7861...   \n",
       "881897        80805076  http://world-en.openfoodfacts.org/product/8080...   \n",
       "903975   8412505002007  http://world-en.openfoodfacts.org/product/8412...   \n",
       "964243   8690504009207  http://world-en.openfoodfacts.org/product/8690...   \n",
       "998840   9002859100536  http://world-en.openfoodfacts.org/product/9002...   \n",
       "1004507  9310175140113  http://world-en.openfoodfacts.org/product/9310...   \n",
       "1006526       93450669  http://world-en.openfoodfacts.org/product/9345...   \n",
       "\n",
       "                            creator   created_t      created_datetime  \\\n",
       "11965               usda-ndb-import  1489066350  2017-03-09T13:32:30Z   \n",
       "84114    openfoodfacts-contributors  1569000770  2019-09-20T17:32:50Z   \n",
       "104356              usda-ndb-import  1489062284  2017-03-09T12:24:44Z   \n",
       "114462              usda-ndb-import  1489057254  2017-03-09T11:00:54Z   \n",
       "116531              usda-ndb-import  1489142282  2017-03-10T10:38:02Z   \n",
       "117762          zoneblockscommunity  1471740813  2016-08-21T00:53:33Z   \n",
       "129317              usda-ndb-import  1489069466  2017-03-09T14:24:26Z   \n",
       "134186                      kiliweb  1542360168  2018-11-16T09:22:48Z   \n",
       "139857            ccacacatcatherine  1561215964  2019-06-22T15:06:04Z   \n",
       "176137              usda-ndb-import  1489070592  2017-03-09T14:43:12Z   \n",
       "238167   openfoodfacts-contributors  1537170707  2018-09-17T07:51:47Z   \n",
       "239708   openfoodfacts-contributors  1571588795  2019-10-20T16:26:35Z   \n",
       "242056   openfoodfacts-contributors  1566766286  2019-08-25T20:51:26Z   \n",
       "243196                         clon  1563286550  2019-07-16T14:15:50Z   \n",
       "276525   openfoodfacts-contributors  1550429163  2019-02-17T18:46:03Z   \n",
       "286795   openfoodfacts-contributors  1537079179  2018-09-16T06:26:19Z   \n",
       "314562   openfoodfacts-contributors  1538145697  2018-09-28T14:41:37Z   \n",
       "328291                  anticultist  1472584501  2016-08-30T19:15:01Z   \n",
       "351777                      kiliweb  1530382687  2018-06-30T18:18:07Z   \n",
       "378632                      kiliweb  1504422003  2017-09-03T07:00:03Z   \n",
       "386692                      kiliweb  1521279514  2018-03-17T09:38:34Z   \n",
       "399521                      kiliweb  1554301543  2019-04-03T14:25:43Z   \n",
       "461722   openfoodfacts-contributors  1568131541  2019-09-10T16:05:41Z   \n",
       "465581                  billoute720  1481710850  2016-12-14T10:20:50Z   \n",
       "465582   openfoodfacts-contributors  1485024151  2017-01-21T18:42:31Z   \n",
       "483718   openfoodfacts-contributors  1558637986  2019-05-23T18:59:46Z   \n",
       "596744                       alainm  1546766305  2019-01-06T09:18:25Z   \n",
       "643381   openfoodfacts-contributors  1545289205  2018-12-20T07:00:05Z   \n",
       "655325                      kiliweb  1538574375  2018-10-03T13:46:15Z   \n",
       "656469                   predatorix  1569088345  2019-09-21T17:52:25Z   \n",
       "658911   openfoodfacts-contributors  1570266350  2019-10-05T09:05:50Z   \n",
       "682439   openfoodfacts-contributors  1561303798  2019-06-23T15:29:58Z   \n",
       "697840   openfoodfacts-contributors  1558633229  2019-05-23T17:40:29Z   \n",
       "703611                      kiliweb  1563960643  2019-07-24T09:30:43Z   \n",
       "706990   openfoodfacts-contributors  1565463615  2019-08-10T19:00:15Z   \n",
       "775267   openfoodfacts-contributors  1542303414  2018-11-15T17:36:54Z   \n",
       "784404                    rapiteanu  1569951688  2019-10-01T17:41:28Z   \n",
       "784411                       hunsly  1539261066  2018-10-11T12:31:06Z   \n",
       "784643                       hunsly  1539864659  2018-10-18T12:10:59Z   \n",
       "784699                       hunsly  1540135004  2018-10-21T15:16:44Z   \n",
       "785317                       hunsly  1563438799  2019-07-18T08:33:19Z   \n",
       "792105   openfoodfacts-contributors  1548197562  2019-01-22T22:52:42Z   \n",
       "804723                     fiete-69  1553703785  2019-03-27T16:23:05Z   \n",
       "806528                       elcoco  1562356139  2019-07-05T19:48:59Z   \n",
       "826519                      kiliweb  1554409223  2019-04-04T20:20:23Z   \n",
       "830528   openfoodfacts-contributors  1542458986  2018-11-17T12:49:46Z   \n",
       "831366                      kiliweb  1542438942  2018-11-17T07:15:42Z   \n",
       "846999                      kiliweb  1550964665  2019-02-23T23:31:05Z   \n",
       "881897   openfoodfacts-contributors  1541035533  2018-11-01T01:25:33Z   \n",
       "903975                        kakao  1481635189  2016-12-13T13:19:49Z   \n",
       "964243   openfoodfacts-contributors  1555614649  2019-04-18T19:10:49Z   \n",
       "998840                        kakao  1504109748  2017-08-30T16:15:48Z   \n",
       "1004507  openfoodfacts-contributors  1543449976  2018-11-29T00:06:16Z   \n",
       "1006526  openfoodfacts-contributors  1479880960  2016-11-23T06:02:40Z   \n",
       "\n",
       "         last_modified_t last_modified_datetime  \\\n",
       "11965         1535680058   2018-08-31T01:47:38Z   \n",
       "84114         1569001950   2019-09-20T17:52:30Z   \n",
       "104356        1551563010   2019-03-02T21:43:30Z   \n",
       "114462        1571271950   2019-10-17T00:25:50Z   \n",
       "116531        1541008192   2018-10-31T17:49:52Z   \n",
       "117762        1540841365   2018-10-29T19:29:25Z   \n",
       "129317        1551634087   2019-03-03T17:28:07Z   \n",
       "134186        1560806782   2019-06-17T21:26:22Z   \n",
       "139857        1561216191   2019-06-22T15:09:51Z   \n",
       "176137        1540857399   2018-10-29T23:56:39Z   \n",
       "238167        1537171123   2018-09-17T07:58:43Z   \n",
       "239708        1571588985   2019-10-20T16:29:45Z   \n",
       "242056        1566767268   2019-08-25T21:07:48Z   \n",
       "243196        1567928872   2019-09-08T07:47:52Z   \n",
       "276525        1553197991   2019-03-21T19:53:11Z   \n",
       "286795        1549043737   2019-02-01T17:55:37Z   \n",
       "314562        1538146115   2018-09-28T14:48:35Z   \n",
       "328291        1565628380   2019-08-12T16:46:20Z   \n",
       "351777        1569955509   2019-10-01T18:45:09Z   \n",
       "378632        1563869542   2019-07-23T08:12:22Z   \n",
       "386692        1547407932   2019-01-13T19:32:12Z   \n",
       "399521        1565531612   2019-08-11T13:53:32Z   \n",
       "461722        1568132300   2019-09-10T16:18:20Z   \n",
       "465581        1570450500   2019-10-07T12:15:00Z   \n",
       "465582        1549971258   2019-02-12T11:34:18Z   \n",
       "483718        1558638290   2019-05-23T19:04:50Z   \n",
       "596744        1546766920   2019-01-06T09:28:40Z   \n",
       "643381        1560890812   2019-06-18T20:46:52Z   \n",
       "655325        1552773133   2019-03-16T21:52:13Z   \n",
       "656469        1569088743   2019-09-21T17:59:03Z   \n",
       "658911        1570267121   2019-10-05T09:18:41Z   \n",
       "682439        1561304531   2019-06-23T15:42:11Z   \n",
       "697840        1558636725   2019-05-23T18:38:45Z   \n",
       "703611        1569691254   2019-09-28T17:20:54Z   \n",
       "706990        1565463751   2019-08-10T19:02:31Z   \n",
       "775267        1558797410   2019-05-25T15:16:50Z   \n",
       "784404        1570369974   2019-10-06T13:52:54Z   \n",
       "784411        1539261696   2018-10-11T12:41:36Z   \n",
       "784643        1539864947   2018-10-18T12:15:47Z   \n",
       "784699        1540135437   2018-10-21T15:23:57Z   \n",
       "785317        1563439151   2019-07-18T08:39:11Z   \n",
       "792105        1548198247   2019-01-22T23:04:07Z   \n",
       "804723        1553704295   2019-03-27T16:31:35Z   \n",
       "806528        1567263373   2019-08-31T14:56:13Z   \n",
       "826519        1565795602   2019-08-14T15:13:22Z   \n",
       "830528        1542459524   2018-11-17T12:58:44Z   \n",
       "831366        1548771927   2019-01-29T14:25:27Z   \n",
       "846999        1551006067   2019-02-24T11:01:07Z   \n",
       "881897        1541035820   2018-11-01T01:30:20Z   \n",
       "903975        1562072636   2019-07-02T13:03:56Z   \n",
       "964243        1563351135   2019-07-17T08:12:15Z   \n",
       "998840        1563432810   2019-07-18T06:53:30Z   \n",
       "1004507       1543450222   2018-11-29T00:10:22Z   \n",
       "1006526       1562121134   2019-07-03T02:32:14Z   \n",
       "\n",
       "                                              product_name    quantity  \\\n",
       "11965                           Bellavitano, Merlot Cheese       150 g   \n",
       "84114                                Maxi Burger charolais        195g   \n",
       "104356                                      Cajeta Quemada       660 g   \n",
       "114462                                       Mini Pretzels     226.8 g   \n",
       "116531               Deli Style Sliced Mild Cheddar Cheese       227 g   \n",
       "117762                                     Parmesan Cheese       170 g   \n",
       "129317                 Granvita, Granola Cereal With Fruit       400 g   \n",
       "134186                                          Lemon curd       320 g   \n",
       "139857                     2 tartelettes citron meringuées       200 g   \n",
       "176137                          Queso havarti en rebanadas       213 g   \n",
       "238167                                 fromage en tranches     0,244kg   \n",
       "239708               Quatre quart CHABRIOR pur beurre 800g        800g   \n",
       "242056                                          madeleines        420g   \n",
       "243196                                              Brigit        90 g   \n",
       "276525                                    bloc gouda jeune       303 g   \n",
       "286795                           Morbier affinage 60 jours         NaN   \n",
       "314562   assortiment de guimauves au chocolat noir,au choc     0,634 g   \n",
       "328291                             Milch Snack Schoko-Nuss        300g   \n",
       "351777                                              Haribo         NaN   \n",
       "378632                              President Beurre Leger       250 g   \n",
       "386692                                     Pate feuilletee         NaN   \n",
       "399521                             Madeleines bio chocolat         NaN   \n",
       "461722                                         PAVE NATURE  5 tranches   \n",
       "465581                             Saint Agur +15% gratuit    155.25 g   \n",
       "465582                                       Offre plaisir        135g   \n",
       "483718                               Brisure infusion miel        250g   \n",
       "596744                           chocolat noir coulis yuzu        100g   \n",
       "643381                   Lindt Hello Strawberry Cheesecake        100g   \n",
       "655325                                    Skittles Chewies         300   \n",
       "656469    Odenwälder Marzipan Königsberger Bruch, geflämmt       250 g   \n",
       "658911                                           ICE fresh       415 g   \n",
       "682439                                       Meisterkreide       100 g   \n",
       "697840                                            Serenāde       450 g   \n",
       "703611                          Dark chocolate with orange         NaN   \n",
       "706990                                                 NaN        150g   \n",
       "775267                     Traditional Icelandic Chocolate        100g   \n",
       "784404                                    Uriaș Dots Natur        51 g   \n",
       "784411               Óriás pöttyös túrórudi, mogyorókrémes        51 g   \n",
       "784643                                           Spar Rudi        51 g   \n",
       "784699                                   Márványos vajkrém       250 g   \n",
       "785317                                   Mézes málna szörp      500 ml   \n",
       "792105                st michel la galette cacaotee fourré        120g   \n",
       "804723                                                 NaN        170g   \n",
       "806528                                                 NaN         NaN   \n",
       "826519                                     Ma tarte facile       240 g   \n",
       "830528                              Tranches a la cannelle        405g   \n",
       "831366                                     Crunchy Edamame        21 g   \n",
       "846999         Chocolate blanco con leche y arroz crocante         NaN   \n",
       "881897                                          DACO BELLO        200g   \n",
       "903975                                          Bienmesabe       400 g   \n",
       "964243                                                Çizi          63   \n",
       "998840                                        Mozartsticks       200 g   \n",
       "1004507                       grissini italian breadsticks         NaN   \n",
       "1006526      Macadamia Hazelnut with Peanuts and Seeds Bar         45g   \n",
       "\n",
       "                                  packaging  ... fat_100g saturated-fat_100g  \\\n",
       "11965                 Envoltura de plastico  ...    30.00              20.00   \n",
       "84114                                   NaN  ...    24.80              10.30   \n",
       "104356                  Botella de plastico  ...     8.33               8.33   \n",
       "114462                    Bolsa de plastico  ...     6.67               3.33   \n",
       "116531                    Bolsa de plastico  ...    31.60              18.40   \n",
       "117762         Bosla de plastico resellable  ...    25.00              14.30   \n",
       "129317                    Bolsa de plastico  ...    11.20               2.00   \n",
       "134186                                  NaN  ...    17.90              12.30   \n",
       "139857                              blister  ...    25.00              14.00   \n",
       "176137                       Bolsa plástica  ...    34.00              22.00   \n",
       "238167                     sachet sous vide  ...    30.00              21.00   \n",
       "239708          barquette carton plastifiée  ...    23.60              16.00   \n",
       "242056                             15 x 28g  ...    27.00              17.00   \n",
       "243196                                  NaN  ...    24.40              11.30   \n",
       "276525                            Barquette  ...    31.00              21.00   \n",
       "286795                                  NaN  ...    20.00              20.00   \n",
       "314562                      boite plastique  ...    10.00               6.50   \n",
       "328291                               Karton  ...    28.00              16.00   \n",
       "351777                                  NaN  ...     0.50               0.10   \n",
       "378632                              Plastic  ...    40.00              26.00   \n",
       "386692                                  NaN  ...    21.40               9.90   \n",
       "399521                                  NaN  ...    18.10               2.50   \n",
       "461722                                  NaN  ...    28.00              11.00   \n",
       "465581   Couvercle,Barquette,Film,Plastique  ...    33.00              23.00   \n",
       "465582                                Frais  ...    33.00              23.00   \n",
       "483718                                 miel  ...     0.00               0.00   \n",
       "596744                             pochette  ...    30.70              18.40   \n",
       "643381                                 100g  ...    34.00              20.00   \n",
       "655325                                  NaN  ...     5.83               3.26   \n",
       "656469                       Kunststofftüte  ...    20.50               2.00   \n",
       "658911                                  NaN  ...     0.10               0.10   \n",
       "682439                               Beutel  ...     1.54               1.41   \n",
       "697840                                boite  ...    21.00               6.80   \n",
       "703611                                  NaN  ...    33.00              19.00   \n",
       "706990                                  NaN  ...    32.60               2.70   \n",
       "775267                             Tablette  ...    32.00              21.00   \n",
       "784404                                  NaN  ...    18.00              14.00   \n",
       "784411                                  NaN  ...    23.00              16.00   \n",
       "784643                                  NaN  ...    18.00              15.00   \n",
       "784699                          PP, Műanyag  ...    40.00              27.00   \n",
       "785317                   üveg,papír,műanyag  ...     0.00               0.00   \n",
       "792105                                  NaN  ...    17.00              10.00   \n",
       "804723                                  NaN  ...    33.00              12.00   \n",
       "806528                                  NaN  ...    23.30              10.00   \n",
       "826519                                    1  ...    23.47               9.89   \n",
       "830528                                  NaN  ...    14.00               3.50   \n",
       "831366                                  NaN  ...    52.40               7.14   \n",
       "846999                                  NaN  ...    33.00              20.50   \n",
       "881897                    Sachet refermable  ...    18.00               2.00   \n",
       "903975                     Glas,Verre,métal  ...    23.70               2.21   \n",
       "964243                                  NaN  ...    20.00              10.00   \n",
       "998840             Karton,Kunststoff,21 PAP  ...    29.00              16.00   \n",
       "1004507                                 NaN  ...     8.70               1.30   \n",
       "1006526                         Clear front  ...    18.20               2.60   \n",
       "\n",
       "        carbohydrates_100g sugars_100g fiber_100g proteins_100g    salt_100g  \\\n",
       "11965                 6.67        0.00       0.00         26.70  1690.000000   \n",
       "84114                46.00        3.10        NaN         28.10     1.880000   \n",
       "104356               66.70       46.70       0.00          6.67   296.000000   \n",
       "114462               83.30        1.67       3.33          0.00  3980.000000   \n",
       "116531                0.00        0.00       0.00         26.30  1600.000000   \n",
       "117762                3.57        0.00       0.00         35.70  3080.000000   \n",
       "129317               62.80       22.00       8.50         11.50    57.100000   \n",
       "134186               54.60       48.30        NaN          2.60     0.380000   \n",
       "139857               45.00       34.00       1.40          5.60     0.300000   \n",
       "176137                0.10        0.10       0.00         23.00  2235.200000   \n",
       "238167                0.00        0.00       0.00         23.00    13.000000   \n",
       "239708               48.10       27.00        NaN          5.80     1.340000   \n",
       "242056               50.80       27.70       0.70          5.50     0.910000   \n",
       "243196               48.80       41.30       7.72          9.30     0.120000   \n",
       "276525                0.00        0.00       0.00         23.00     2.000000   \n",
       "286795                1.00        1.00        NaN         23.00     1.300000   \n",
       "314562               73.70       56.70        NaN          3.60     0.050000   \n",
       "328291               44.00       31.00        NaN          5.80     0.470000   \n",
       "351777               80.00       52.00        NaN          5.40     0.030000   \n",
       "378632                4.00        0.00       0.00          0.80     0.400000   \n",
       "386692               35.20        0.80        NaN          5.50     1.400000   \n",
       "399521               59.40       37.50        NaN          5.62     0.781000   \n",
       "461722                1.00        1.00        NaN         26.00     4.300000   \n",
       "465581                0.50        0.50        NaN         16.00     2.200000   \n",
       "465582                0.50        0.50       0.00         16.00     2.200000   \n",
       "483718               98.00       77.00        NaN          0.00     0.000000   \n",
       "596744               39.80       20.50        NaN          5.31     0.018000   \n",
       "643381               53.00       52.00        NaN          7.30     0.250000   \n",
       "655325               86.20       85.30        NaN          0.00     0.000000   \n",
       "656469               55.10       50.20        NaN          9.20     0.010000   \n",
       "658911               95.90       71.90        NaN          0.10     0.020000   \n",
       "682439               85.30       73.50        NaN          1.81     0.000000   \n",
       "697840               61.00       56.00       0.00          6.20     0.020000   \n",
       "703611               53.00       43.00       6.30          5.30     0.010000   \n",
       "706990               51.20        0.00       0.00          2.00     1.630000   \n",
       "775267               55.00       53.00        NaN          8.00     1.500000   \n",
       "784404               39.00       37.00       0.60         10.00     0.140000   \n",
       "784411               43.00       40.00        NaN          8.10     0.100000   \n",
       "784643               39.00       36.00       1.30         10.00     0.110000   \n",
       "784699                4.70        3.90        NaN          3.10     0.710000   \n",
       "785317               85.00       85.00       0.00          0.00     0.000000   \n",
       "792105               70.00       25.00       0.00          7.00     1.000000   \n",
       "804723                0.90        0.50        NaN         30.00     4.100000   \n",
       "806528               63.30       33.30       3.33          3.33     0.864000   \n",
       "826519               37.70        1.50       2.14          5.87     1.120000   \n",
       "830528               56.00       36.00       3.50          5.90     0.550000   \n",
       "831366               61.90       14.30     129.00        190.00     1.900000   \n",
       "846999               54.60       49.70       1.60          8.50     0.292862   \n",
       "881897               50.00       45.00       4.00         10.00     1.000000   \n",
       "903975               48.40       28.10        NaN          8.50     0.240000   \n",
       "964243               61.00        6.00       3.00          7.00     0.900000   \n",
       "998840               56.00       53.00        NaN          4.00     0.090000   \n",
       "1004507              70.60        2.80        NaN         11.90  1200.000000   \n",
       "1006526              13.20        9.70       3.10          6.00    15.240000   \n",
       "\n",
       "         sodium_100g nutrition-score-fr_100g nutrition-score-uk_100g  \n",
       "11965     677.000000                    25.0                    30.0  \n",
       "84114       0.752000                    28.0                    28.0  \n",
       "104356    119.000000                    38.0                    38.0  \n",
       "114462   1590.000000                    20.0                    20.0  \n",
       "116531    642.000000                    25.0                    30.0  \n",
       "117762   1230.000000                    25.0                    30.0  \n",
       "129317     22.900000                    20.0                    20.0  \n",
       "134186      0.152000                    31.0                    31.0  \n",
       "139857      0.120000                    27.0                    27.0  \n",
       "176137    894.080000                    25.0                    30.0  \n",
       "238167      5.200000                    30.0                    30.0  \n",
       "239708      0.536000                    30.0                    30.0  \n",
       "242056      0.364000                    30.0                    30.0  \n",
       "243196      0.048000                    24.0                    24.0  \n",
       "276525      0.800000                    28.0                    28.0  \n",
       "286795      0.520000                    20.0                    25.0  \n",
       "314562      0.020000                    26.0                    26.0  \n",
       "328291      0.188000                    28.0                    28.0  \n",
       "351777      0.012000                    20.0                    20.0  \n",
       "378632      0.160000                    21.0                    21.0  \n",
       "386692      0.560000                    25.0                    25.0  \n",
       "399521      0.312000                    23.0                    23.0  \n",
       "461722      1.720000                    30.0                    30.0  \n",
       "465581      0.880000                    24.0                    29.0  \n",
       "465582      0.880000                    24.0                    29.0  \n",
       "483718      0.000000                    20.0                    20.0  \n",
       "596744      0.007200                    24.0                    24.0  \n",
       "643381      0.100000                    31.0                    31.0  \n",
       "655325      0.000000                    23.0                    23.0  \n",
       "656469      0.004000                    21.0                    21.0  \n",
       "658911      0.008000                    20.0                    20.0  \n",
       "682439      0.000000                    21.0                    21.0  \n",
       "697840      0.008000                    26.0                    26.0  \n",
       "703611      0.004000                    24.0                    24.0  \n",
       "706990      0.652000                    19.0                    19.0  \n",
       "775267      0.600000                    36.0                    36.0  \n",
       "784404      0.056000                    28.0                    28.0  \n",
       "784411      0.040000                    28.0                    28.0  \n",
       "784643      0.044000                    26.0                    26.0  \n",
       "784699      0.284000                    23.0                    23.0  \n",
       "785317      0.000000                    20.0                    20.0  \n",
       "792105      0.400000                    28.0                    28.0  \n",
       "804723      1.640000                    30.0                    30.0  \n",
       "806528      0.345000                    26.0                    26.0  \n",
       "826519      0.448000                    21.0                    21.0  \n",
       "830528      0.220000                    19.0                    19.0  \n",
       "831366      0.762000                    23.0                    23.0  \n",
       "846999      0.000117                    29.0                    29.0  \n",
       "881897      0.400000                    20.0                    20.0  \n",
       "903975      0.096000                    19.0                    19.0  \n",
       "964243      0.360000                    20.0                    20.0  \n",
       "998840      0.036000                    30.0                    30.0  \n",
       "1004507   480.000000                    21.0                    21.0  \n",
       "1006526     6.096000                    21.0                    21.0  \n",
       "\n",
       "[54 rows x 57 columns]"
      ]
     },
     "execution_count": 24,
     "metadata": {},
     "output_type": "execute_result"
    }
   ],
   "source": [
    "df_e_small"
   ]
  },
  {
   "cell_type": "markdown",
   "metadata": {},
   "source": [
    "There are 56563 products with the worse nutrition grade. The dataframe is thus still big enough in order to see significant patterns emerge."
   ]
  },
  {
   "cell_type": "code",
   "execution_count": 25,
   "metadata": {
    "scrolled": true
   },
   "outputs": [
    {
     "data": {
      "text/plain": [
       "(56563, 57)"
      ]
     },
     "execution_count": 25,
     "metadata": {},
     "output_type": "execute_result"
    }
   ],
   "source": [
    "df_e.shape "
   ]
  },
  {
   "cell_type": "markdown",
   "metadata": {},
   "source": [
    "# Word representation of the nutrition grade"
   ]
  },
  {
   "cell_type": "markdown",
   "metadata": {},
   "source": [
    "In this section, we treat the names of the products in the instacart dataset, in order to be able later on to compute a similar nutrition grade for the products in the instacart dataset. More specifically, we will first clean the names and split multiple word names into distinct words. Afterwards, for each category we will see which words appear the most often in the names of the products of this category. This will allow us to create a word representation of each distinct nutritional grade. The nutritional grade for the products of the instacart dataset will be computed based on this word representation (more on that in the next section)."
   ]
  },
  {
   "cell_type": "markdown",
   "metadata": {},
   "source": [
    "## Handling the names of the products\n",
    "We define the following functions in order to clean and split the names of the products. Also we define a method which creates for a given nutrition grade a dictionnary with the number of appearances of each word."
   ]
  },
  {
   "cell_type": "code",
   "execution_count": 13,
   "metadata": {},
   "outputs": [],
   "source": [
    "# Text handling utilities\n",
    "from string import punctuation\n",
    "import unidecode\n",
    "stopwords_list = open('Data/stopwords_new.txt', 'r').readlines()\n",
    "stopwords_list = [x.strip() for x in stopwords_list]\n",
    "def stopword_remover(text):\n",
    "    text_list = text.split()\n",
    "    text_list = [x for x in text_list if x not in stopwords_list]\n",
    "    return ' '.join(text_list)\n",
    "def lowercase_all(text):\n",
    "    return text.lower()\n",
    "def remove_punct(text):\n",
    "    return ''.join([ch for ch in text if ch not in punctuation])\n",
    "def remove_numbers(foo):\n",
    "    return [x for x in foo if not any(x1.isdigit() for x1 in x)]"
   ]
  },
  {
   "cell_type": "code",
   "execution_count": 14,
   "metadata": {},
   "outputs": [],
   "source": [
    "def extract_words_by_grade(df,nutritional_grade='a'):\n",
    "    '''applies the text handling utilities to the subset of the dataframe corresponding to \n",
    "    nutritional_grade and returns a dictionnary containg the words and their count'''\n",
    "    df_e=df[df['nutrition_grade_fr']==nutritional_grade].copy()\n",
    "        \n",
    "    ## Remove outliers and nans from the dataset \n",
    "    prod_name=list(df_e['product_name'].values)\n",
    "    prod_name_clean=[unidecode.unidecode(str(i)) for i in prod_name] #remove accents\n",
    "    prod_name_clean=[stopword_remover(remove_punct(lowercase_all(i)))\\\n",
    "                         for i in prod_name_clean]\n",
    "        \n",
    "        \n",
    "    # now we can concatenate the names\n",
    "    name_concat=[]\n",
    "    for i in prod_name_clean: \n",
    "        for j in i.split(): \n",
    "            name_concat.append(j)\n",
    "                \n",
    "    name_concat=remove_numbers(name_concat)\n",
    "\n",
    "    return OrderedDict(sorted(Counter(name_concat).items(),\\\n",
    "                                  key = lambda kv : kv[1], reverse=True))"
   ]
  },
  {
   "cell_type": "code",
   "execution_count": 15,
   "metadata": {},
   "outputs": [],
   "source": [
    "prod_name=list(df_e['product_name'].values)\n",
    "prod_name_clean=[unidecode.unidecode(str(i)) for i in prod_name] #remove accents\n",
    "prod_name_clean=[stopword_remover(remove_punct(lowercase_all(i))) for i in prod_name_clean]"
   ]
  },
  {
   "cell_type": "code",
   "execution_count": 16,
   "metadata": {},
   "outputs": [],
   "source": [
    "# now we can concatenate the names\n",
    "name_concat=[]\n",
    "for i in prod_name_clean: \n",
    "    for j in i.split(): \n",
    "        name_concat.append(j)"
   ]
  },
  {
   "cell_type": "code",
   "execution_count": 17,
   "metadata": {},
   "outputs": [],
   "source": [
    "name_concat=remove_numbers(name_concat)"
   ]
  },
  {
   "cell_type": "code",
   "execution_count": 27,
   "metadata": {},
   "outputs": [
    {
     "data": {
      "text/plain": [
       "168542"
      ]
     },
     "execution_count": 27,
     "metadata": {},
     "output_type": "execute_result"
    }
   ],
   "source": [
    "len(name_concat)"
   ]
  },
  {
   "cell_type": "code",
   "execution_count": 18,
   "metadata": {},
   "outputs": [],
   "source": [
    "name_dict=Counter(name_concat)"
   ]
  },
  {
   "cell_type": "code",
   "execution_count": 19,
   "metadata": {},
   "outputs": [],
   "source": [
    "sorted_dict = OrderedDict(sorted(name_dict.items(), key = lambda kv : kv[1], reverse=True))"
   ]
  },
  {
   "cell_type": "markdown",
   "metadata": {},
   "source": [
    "## Creation of the Word Representation\n",
    "We create a dictionnary using the previously defined functions for all the nutrition grades. We will also translate the words since the product names come in different languages (fr,de,es,en,etc). For now, we have a problem since the google API stops working after having translated 500 words which is problematic..."
   ]
  },
  {
   "cell_type": "code",
   "execution_count": 20,
   "metadata": {},
   "outputs": [],
   "source": [
    "# create a dictionnary for all nutrition grades\n",
    "grade_dict={}\n",
    "for i in np.unique(df_ns['nutrition_grade_fr']):\n",
    "    grade_dict[i]=extract_words_by_grade(df_ns,nutritional_grade=i)"
   ]
  },
  {
   "cell_type": "markdown",
   "metadata": {},
   "source": [
    "We now make an attemps to translate the words. However, the google API stops working after having translated 100 words per grade. Thus for now, we have only translated the 100 most frequent words for each nutrition grade to create our word representation."
   ]
  },
  {
   "cell_type": "code",
   "execution_count": 36,
   "metadata": {},
   "outputs": [],
   "source": [
    "# attempt to translate the words\n",
    "translated_dict={} \n",
    "for grade in np.unique(df_ns['nutrition_grade_fr']): \n",
    "    translated_list=[]\n",
    "    translator=Translator()\n",
    "    for i in list(grade_dict[grade].items())[0:100]:\n",
    "        translated_list.append((translator.translate(i[0],dest='en').text.lower(),i[1]))\n",
    "    translated_dict[grade]=translated_list"
   ]
  },
  {
   "cell_type": "code",
   "execution_count": 37,
   "metadata": {},
   "outputs": [],
   "source": [
    "# Since the googletrans API is unstable we will save the \n",
    "# translated_dict in case it later does not work\n",
    "with open('translated_dict.pickle', 'wb') as handle:\n",
    "    pickle.dump(translated_dict, handle, protocol=pickle.HIGHEST_PROTOCOL)"
   ]
  },
  {
   "cell_type": "code",
   "execution_count": 21,
   "metadata": {},
   "outputs": [],
   "source": [
    "translated_dict = pd.read_pickle('Data/translated_dict.pickle')"
   ]
  },
  {
   "cell_type": "markdown",
   "metadata": {},
   "source": [
    "### Visualization of the word representation\n",
    "In this section, we provide barplots for each nutrition grade allowing us to vizualize which words are the most frequent per grade."
   ]
  },
  {
   "cell_type": "code",
   "execution_count": 22,
   "metadata": {},
   "outputs": [],
   "source": [
    "def barplot_with_names(x,n=15,title=None):\n",
    "    ''' x is either a list of tuples or a dictionary, where the\n",
    "    first element is the name and the second is the quantity'''\n",
    "    try:\n",
    "        x=list(x.items())[:n]\n",
    "    except:\n",
    "        x=x[:n]\n",
    "    \n",
    "    h=[i[1] for i in x]\n",
    "    xnames=[i[0] for i in x]\n",
    "    xx=np.arange(0,len(h))\n",
    "    \n",
    "    fig,ax=plt.subplots(figsize=(15,6))\n",
    "    plt.bar(xx,h)\n",
    "    ax.set_xticks(xx)\n",
    "    ax.set_xticklabels(xnames,rotation=45,fontsize=12)\n",
    "    ax.set_ylabel('Number of occurrences')\n",
    "    ax.set_title(title,fontsize=16)"
   ]
  },
  {
   "cell_type": "markdown",
   "metadata": {},
   "source": [
    "We plot all the different products translated and ordered."
   ]
  },
  {
   "cell_type": "code",
   "execution_count": 39,
   "metadata": {
    "scrolled": false
   },
   "outputs": [
    {
     "data": {
      "image/png": "[encoded data removed]",
      "text/plain": [
       "<Figure size 1080x432 with 1 Axes>"
      ]
     },
     "metadata": {
      "needs_background": "light"
     },
     "output_type": "display_data"
    },
    {
     "data": {
      "image/png": "[encoded data removed]",
      "text/plain": [
       "<Figure size 1080x432 with 1 Axes>"
      ]
     },
     "metadata": {
      "needs_background": "light"
     },
     "output_type": "display_data"
    },
    {
     "data": {
      "image/png": "[encoded data removed]",
      "text/plain": [
       "<Figure size 1080x432 with 1 Axes>"
      ]
     },
     "metadata": {
      "needs_background": "light"
     },
     "output_type": "display_data"
    },
    {
     "data": {
      "image/png": "[encoded data removed]",
      "text/plain": [
       "<Figure size 1080x432 with 1 Axes>"
      ]
     },
     "metadata": {
      "needs_background": "light"
     },
     "output_type": "display_data"
    },
    {
     "data": {
      "image/png": "[encoded data removed]",
      "text/plain": [
       "<Figure size 1080x432 with 1 Axes>"
      ]
     },
     "metadata": {
      "needs_background": "light"
     },
     "output_type": "display_data"
    }
   ],
   "source": [
    "for i in np.unique(df_ns['nutrition_grade_fr']):\n",
    "    \n",
    "    barplot_with_names(translated_dict[i],n=25,title='Nutrition Grade = '+i.capitalize())"
   ]
  },
  {
   "cell_type": "markdown",
   "metadata": {},
   "source": [
    "#### Comments about the visualization \n",
    "- Grade A : We notice that the most frequent word is \"bio\" followed by \"chicken\", \"beans\", and \"apple\". In general the words are related to vegetables/fruits. \n",
    "- Grade B : The first words are \"milk\" and \"chicken\". \"Bio\" now falls in third position. In general, the words are milk or meat/fish related. Some are also vegetables/fruit related.\n",
    "- Grade C : The first words are now \"sauce\" and \"extra\" and \"bio\" comes in 6th position. We notice that the words are less about raw products, but represent more already processed goods (sauce, jam, etc). \"Chocolat\" makes its appearance in 18th position.\n",
    "- Grade D : \"Chocolat\" jumps to first position, followed by \"sauce\". We notice a lot of words that are cream or cheese related. \n",
    "- Grade E : \"Chocolat\" remains in first position, but the gap in the number of occurences between the first and second word increases a lot (now \"Chocolat\" appears more than 6000 times, as opposed to 2700 times in Grade D). We notice a lot of words related to very fat products (\"butter\", \"gras\", \"mayonnaise\", ...), and also a lot of deserts. "
   ]
  },
  {
   "cell_type": "code",
   "execution_count": 30,
   "metadata": {},
   "outputs": [],
   "source": [
    "del df_of_clean  #delete a big variable to be able to load instacart"
   ]
  },
  {
   "cell_type": "markdown",
   "metadata": {},
   "source": [
    "# Instacart dataset"
   ]
  },
  {
   "cell_type": "markdown",
   "metadata": {},
   "source": [
    "In this section, we work with the [instacart](https://www.instacart.com/) dataset. In a first time, we make a initial analysis with this dataset alone, and then in a second time we link it with the openfoodfacts dataset."
   ]
  },
  {
   "cell_type": "markdown",
   "metadata": {},
   "source": [
    "**Dataset description**\n",
    "\n",
    "`orders` (3.4m rows, 206k users):\n",
    "* `order_id`: order identifier\n",
    "* `user_id`: customer identifier\n",
    "* `eval_set`: which evaluation set this order belongs in (see `SET` described below)\n",
    "* `order_number`: the order sequence number for this user (1 = first, n = nth)\n",
    "* `order_dow`: the day of the week the order was placed on\n",
    "* `order_hour_of_day`: the hour of the day the order was placed on\n",
    "* `days_since_prior`: days since the last order, capped at 30 (with NAs for `order_number` = 1)\n",
    "\n",
    "`products` (50k rows):\n",
    "* `product_id`: product identifier\n",
    "* `product_name`: name of the product\n",
    "* `aisle_id`: foreign key\n",
    "* `department_id`: foreign key\n",
    "\n",
    "`aisles` (134 rows):\n",
    "* `aisle_id`: aisle identifier\n",
    "* `aisle`: the name of the aisle\n",
    "\n",
    "`deptartments` (21 rows):\n",
    "* `department_id`: department identifier\n",
    "* `department`: the name of the department\n",
    "\n",
    "`order_products__SET` (30m+ rows):\n",
    "* `order_id`: foreign key\n",
    "* `product_id`: foreign key\n",
    "* `add_to_cart_order`: order in which each product was added to cart\n",
    "* `reordered`: 1 if this product has been ordered by this user in the past, 0 otherwise\n",
    "\n",
    "where `SET` is one of the four following evaluation sets (`eval_set` in `orders`):\n",
    "* `\"prior\"`: orders prior to that users most recent order (~3.2m orders)\n",
    "* `\"train\"`: training data supplied to participants (~131k orders)\n",
    "* `\"test\"`: test data reserved for machine learning competitions (~75k orders)"
   ]
  },
  {
   "cell_type": "markdown",
   "metadata": {},
   "source": [
    "## Load the data and initial analysis"
   ]
  },
  {
   "cell_type": "code",
   "execution_count": 23,
   "metadata": {},
   "outputs": [],
   "source": [
    "aisles_path='Data/instacart_2017_05_01/aisles.csv'\n",
    "dep_path='Data/instacart_2017_05_01/departments.csv'\n",
    "orders_path='Data/instacart_2017_05_01/orders.csv'\n",
    "products_path='Data/instacart_2017_05_01/products.csv'\n",
    "o_ppath='Data/instacart_2017_05_01/order_products__prior.csv'"
   ]
  },
  {
   "cell_type": "code",
   "execution_count": 24,
   "metadata": {},
   "outputs": [],
   "source": [
    "aisles=pd.read_csv(aisles_path)\n",
    "dep=pd.read_csv(dep_path)\n",
    "orders=pd.read_csv(orders_path)\n",
    "products=pd.read_csv(products_path)\n",
    "oprior=pd.read_csv(o_ppath)"
   ]
  },
  {
   "cell_type": "code",
   "execution_count": 28,
   "metadata": {},
   "outputs": [
    {
     "data": {
      "text/plain": [
       "True"
      ]
     },
     "execution_count": 28,
     "metadata": {},
     "output_type": "execute_result"
    }
   ],
   "source": [
    "products.product_id.is_unique # The key values of each dataset"
   ]
  },
  {
   "cell_type": "code",
   "execution_count": 29,
   "metadata": {},
   "outputs": [
    {
     "data": {
      "text/plain": [
       "True"
      ]
     },
     "execution_count": 29,
     "metadata": {},
     "output_type": "execute_result"
    }
   ],
   "source": [
    "orders.order_id.is_unique"
   ]
  },
  {
   "cell_type": "code",
   "execution_count": 30,
   "metadata": {},
   "outputs": [],
   "source": [
    "products=products.set_index('product_id')"
   ]
  },
  {
   "cell_type": "code",
   "execution_count": 31,
   "metadata": {},
   "outputs": [
    {
     "name": "stdout",
     "output_type": "stream",
     "text": [
      "(32434489, 4)\n"
     ]
    },
    {
     "data": {
      "text/html": [
       "<div>\n",
       "<style scoped>\n",
       "    .dataframe tbody tr th:only-of-type {\n",
       "        vertical-align: middle;\n",
       "    }\n",
       "\n",
       "    .dataframe tbody tr th {\n",
       "        vertical-align: top;\n",
       "    }\n",
       "\n",
       "    .dataframe thead th {\n",
       "        text-align: right;\n",
       "    }\n",
       "</style>\n",
       "<table border=\"1\" class=\"dataframe\">\n",
       "  <thead>\n",
       "    <tr style=\"text-align: right;\">\n",
       "      <th></th>\n",
       "      <th>order_id</th>\n",
       "      <th>product_id</th>\n",
       "      <th>add_to_cart_order</th>\n",
       "      <th>reordered</th>\n",
       "    </tr>\n",
       "  </thead>\n",
       "  <tbody>\n",
       "    <tr>\n",
       "      <td>0</td>\n",
       "      <td>2</td>\n",
       "      <td>33120</td>\n",
       "      <td>1</td>\n",
       "      <td>1</td>\n",
       "    </tr>\n",
       "    <tr>\n",
       "      <td>1</td>\n",
       "      <td>2</td>\n",
       "      <td>28985</td>\n",
       "      <td>2</td>\n",
       "      <td>1</td>\n",
       "    </tr>\n",
       "    <tr>\n",
       "      <td>2</td>\n",
       "      <td>2</td>\n",
       "      <td>9327</td>\n",
       "      <td>3</td>\n",
       "      <td>0</td>\n",
       "    </tr>\n",
       "    <tr>\n",
       "      <td>3</td>\n",
       "      <td>2</td>\n",
       "      <td>45918</td>\n",
       "      <td>4</td>\n",
       "      <td>1</td>\n",
       "    </tr>\n",
       "    <tr>\n",
       "      <td>4</td>\n",
       "      <td>2</td>\n",
       "      <td>30035</td>\n",
       "      <td>5</td>\n",
       "      <td>0</td>\n",
       "    </tr>\n",
       "  </tbody>\n",
       "</table>\n",
       "</div>"
      ],
      "text/plain": [
       "   order_id  product_id  add_to_cart_order  reordered\n",
       "0         2       33120                  1          1\n",
       "1         2       28985                  2          1\n",
       "2         2        9327                  3          0\n",
       "3         2       45918                  4          1\n",
       "4         2       30035                  5          0"
      ]
     },
     "execution_count": 31,
     "metadata": {},
     "output_type": "execute_result"
    }
   ],
   "source": [
    "print(oprior.shape)\n",
    "oprior.head()"
   ]
  },
  {
   "cell_type": "markdown",
   "metadata": {},
   "source": [
    "### Aggregate and save prior orders\n",
    "\n",
    "Since the aggregation takes time, we only do this step once and save the data to a pickle file to be reused. We aggregate the prior orders on the order id, that way we have the list of products for each order. The oprior_agg dataframe contains the data aggregated on the order id."
   ]
  },
  {
   "cell_type": "code",
   "execution_count": null,
   "metadata": {},
   "outputs": [],
   "source": [
    "oprior_agg=oprior.groupby('order_id').agg(list)"
   ]
  },
  {
   "cell_type": "code",
   "execution_count": 50,
   "metadata": {},
   "outputs": [
    {
     "data": {
      "text/html": [
       "<div>\n",
       "<style scoped>\n",
       "    .dataframe tbody tr th:only-of-type {\n",
       "        vertical-align: middle;\n",
       "    }\n",
       "\n",
       "    .dataframe tbody tr th {\n",
       "        vertical-align: top;\n",
       "    }\n",
       "\n",
       "    .dataframe thead th {\n",
       "        text-align: right;\n",
       "    }\n",
       "</style>\n",
       "<table border=\"1\" class=\"dataframe\">\n",
       "  <thead>\n",
       "    <tr style=\"text-align: right;\">\n",
       "      <th></th>\n",
       "      <th>product_id</th>\n",
       "      <th>add_to_cart_order</th>\n",
       "      <th>reordered</th>\n",
       "    </tr>\n",
       "    <tr>\n",
       "      <th>order_id</th>\n",
       "      <th></th>\n",
       "      <th></th>\n",
       "      <th></th>\n",
       "    </tr>\n",
       "  </thead>\n",
       "  <tbody>\n",
       "    <tr>\n",
       "      <td>2</td>\n",
       "      <td>[33120, 28985, 9327, 45918, 30035, 17794, 4014...</td>\n",
       "      <td>[1, 2, 3, 4, 5, 6, 7, 8, 9]</td>\n",
       "      <td>[1, 1, 0, 1, 0, 1, 1, 1, 0]</td>\n",
       "    </tr>\n",
       "    <tr>\n",
       "      <td>3</td>\n",
       "      <td>[33754, 24838, 17704, 21903, 17668, 46667, 174...</td>\n",
       "      <td>[1, 2, 3, 4, 5, 6, 7, 8]</td>\n",
       "      <td>[1, 1, 1, 1, 1, 1, 1, 1]</td>\n",
       "    </tr>\n",
       "    <tr>\n",
       "      <td>4</td>\n",
       "      <td>[46842, 26434, 39758, 27761, 10054, 21351, 225...</td>\n",
       "      <td>[1, 2, 3, 4, 5, 6, 7, 8, 9, 10, 11, 12, 13]</td>\n",
       "      <td>[0, 1, 1, 1, 1, 1, 1, 1, 1, 1, 1, 1, 1]</td>\n",
       "    </tr>\n",
       "    <tr>\n",
       "      <td>5</td>\n",
       "      <td>[13176, 15005, 47329, 27966, 23909, 48370, 132...</td>\n",
       "      <td>[1, 2, 3, 4, 5, 6, 7, 8, 9, 10, 11, 12, 13, 14...</td>\n",
       "      <td>[1, 1, 1, 1, 1, 1, 1, 1, 1, 1, 1, 1, 1, 1, 1, ...</td>\n",
       "    </tr>\n",
       "    <tr>\n",
       "      <td>6</td>\n",
       "      <td>[40462, 15873, 41897]</td>\n",
       "      <td>[1, 2, 3]</td>\n",
       "      <td>[0, 0, 0]</td>\n",
       "    </tr>\n",
       "  </tbody>\n",
       "</table>\n",
       "</div>"
      ],
      "text/plain": [
       "                                                 product_id  \\\n",
       "order_id                                                      \n",
       "2         [33120, 28985, 9327, 45918, 30035, 17794, 4014...   \n",
       "3         [33754, 24838, 17704, 21903, 17668, 46667, 174...   \n",
       "4         [46842, 26434, 39758, 27761, 10054, 21351, 225...   \n",
       "5         [13176, 15005, 47329, 27966, 23909, 48370, 132...   \n",
       "6                                     [40462, 15873, 41897]   \n",
       "\n",
       "                                          add_to_cart_order  \\\n",
       "order_id                                                      \n",
       "2                               [1, 2, 3, 4, 5, 6, 7, 8, 9]   \n",
       "3                                  [1, 2, 3, 4, 5, 6, 7, 8]   \n",
       "4               [1, 2, 3, 4, 5, 6, 7, 8, 9, 10, 11, 12, 13]   \n",
       "5         [1, 2, 3, 4, 5, 6, 7, 8, 9, 10, 11, 12, 13, 14...   \n",
       "6                                                 [1, 2, 3]   \n",
       "\n",
       "                                                  reordered  \n",
       "order_id                                                     \n",
       "2                               [1, 1, 0, 1, 0, 1, 1, 1, 0]  \n",
       "3                                  [1, 1, 1, 1, 1, 1, 1, 1]  \n",
       "4                   [0, 1, 1, 1, 1, 1, 1, 1, 1, 1, 1, 1, 1]  \n",
       "5         [1, 1, 1, 1, 1, 1, 1, 1, 1, 1, 1, 1, 1, 1, 1, ...  \n",
       "6                                                 [0, 0, 0]  "
      ]
     },
     "execution_count": 50,
     "metadata": {},
     "output_type": "execute_result"
    }
   ],
   "source": [
    "oprior_agg.head()"
   ]
  },
  {
   "cell_type": "code",
   "execution_count": 51,
   "metadata": {},
   "outputs": [],
   "source": [
    "oprior_agg.to_pickle('Data/instacart_2017_05_01/oprior_agg.pkl')"
   ]
  },
  {
   "cell_type": "code",
   "execution_count": 25,
   "metadata": {},
   "outputs": [],
   "source": [
    "oprior_agg=pd.read_pickle('Data/instacart_2017_05_01/oprior_agg.pkl')"
   ]
  },
  {
   "cell_type": "code",
   "execution_count": 53,
   "metadata": {},
   "outputs": [
    {
     "data": {
      "text/html": [
       "<div>\n",
       "<style scoped>\n",
       "    .dataframe tbody tr th:only-of-type {\n",
       "        vertical-align: middle;\n",
       "    }\n",
       "\n",
       "    .dataframe tbody tr th {\n",
       "        vertical-align: top;\n",
       "    }\n",
       "\n",
       "    .dataframe thead th {\n",
       "        text-align: right;\n",
       "    }\n",
       "</style>\n",
       "<table border=\"1\" class=\"dataframe\">\n",
       "  <thead>\n",
       "    <tr style=\"text-align: right;\">\n",
       "      <th></th>\n",
       "      <th>product_name</th>\n",
       "      <th>aisle_id</th>\n",
       "      <th>department_id</th>\n",
       "    </tr>\n",
       "    <tr>\n",
       "      <th>product_id</th>\n",
       "      <th></th>\n",
       "      <th></th>\n",
       "      <th></th>\n",
       "    </tr>\n",
       "  </thead>\n",
       "  <tbody>\n",
       "    <tr>\n",
       "      <td>40462</td>\n",
       "      <td>Cleanse</td>\n",
       "      <td>31</td>\n",
       "      <td>7</td>\n",
       "    </tr>\n",
       "    <tr>\n",
       "      <td>15873</td>\n",
       "      <td>Dryer Sheets Geranium Scent</td>\n",
       "      <td>75</td>\n",
       "      <td>17</td>\n",
       "    </tr>\n",
       "    <tr>\n",
       "      <td>41897</td>\n",
       "      <td>Clean Day Lavender Scent Room Freshener Spray</td>\n",
       "      <td>101</td>\n",
       "      <td>17</td>\n",
       "    </tr>\n",
       "  </tbody>\n",
       "</table>\n",
       "</div>"
      ],
      "text/plain": [
       "                                             product_name  aisle_id  \\\n",
       "product_id                                                            \n",
       "40462                                             Cleanse        31   \n",
       "15873                         Dryer Sheets Geranium Scent        75   \n",
       "41897       Clean Day Lavender Scent Room Freshener Spray       101   \n",
       "\n",
       "            department_id  \n",
       "product_id                 \n",
       "40462                   7  \n",
       "15873                  17  \n",
       "41897                  17  "
      ]
     },
     "execution_count": 53,
     "metadata": {},
     "output_type": "execute_result"
    }
   ],
   "source": [
    "# Example : we query all the products associated with the order_id=6\n",
    "products.loc[oprior_agg.product_id[6]]"
   ]
  },
  {
   "cell_type": "markdown",
   "metadata": {},
   "source": [
    "### Product centric dataframe \n",
    "We create a new dataframe products, where each row represents a product. The columns contain amongst other the product name and the number of times it has been ordered. The dataframe is ordered by descending number of orders."
   ]
  },
  {
   "cell_type": "code",
   "execution_count": 11,
   "metadata": {},
   "outputs": [],
   "source": [
    "tmp=oprior.groupby('product_id').count()[['order_id']]\n",
    "tmp.columns=['n_orders']\n",
    "products=products.merge(tmp,left_index=True, right_index=True)"
   ]
  },
  {
   "cell_type": "code",
   "execution_count": 12,
   "metadata": {},
   "outputs": [],
   "source": [
    "products=products.sort_values('n_orders',ascending=False)"
   ]
  },
  {
   "cell_type": "code",
   "execution_count": 13,
   "metadata": {},
   "outputs": [
    {
     "data": {
      "text/html": [
       "<div>\n",
       "<style scoped>\n",
       "    .dataframe tbody tr th:only-of-type {\n",
       "        vertical-align: middle;\n",
       "    }\n",
       "\n",
       "    .dataframe tbody tr th {\n",
       "        vertical-align: top;\n",
       "    }\n",
       "\n",
       "    .dataframe thead th {\n",
       "        text-align: right;\n",
       "    }\n",
       "</style>\n",
       "<table border=\"1\" class=\"dataframe\">\n",
       "  <thead>\n",
       "    <tr style=\"text-align: right;\">\n",
       "      <th></th>\n",
       "      <th>product_id</th>\n",
       "      <th>product_name</th>\n",
       "      <th>aisle_id</th>\n",
       "      <th>department_id</th>\n",
       "      <th>n_orders</th>\n",
       "    </tr>\n",
       "  </thead>\n",
       "  <tbody>\n",
       "    <tr>\n",
       "      <td>24852</td>\n",
       "      <td>24853</td>\n",
       "      <td>Shredded 3 Cheese Italian</td>\n",
       "      <td>21</td>\n",
       "      <td>16</td>\n",
       "      <td>472565</td>\n",
       "    </tr>\n",
       "    <tr>\n",
       "      <td>13176</td>\n",
       "      <td>13177</td>\n",
       "      <td>Warrior Blend Vanilla Dietary Supplement</td>\n",
       "      <td>65</td>\n",
       "      <td>11</td>\n",
       "      <td>379450</td>\n",
       "    </tr>\n",
       "    <tr>\n",
       "      <td>21137</td>\n",
       "      <td>21138</td>\n",
       "      <td>Fat Free Low Sodium Poppyseed Dressing</td>\n",
       "      <td>89</td>\n",
       "      <td>13</td>\n",
       "      <td>264683</td>\n",
       "    </tr>\n",
       "    <tr>\n",
       "      <td>21903</td>\n",
       "      <td>21904</td>\n",
       "      <td>Earth Paste Amazingly Natural Toothpaste Peppe...</td>\n",
       "      <td>20</td>\n",
       "      <td>11</td>\n",
       "      <td>241921</td>\n",
       "    </tr>\n",
       "    <tr>\n",
       "      <td>47209</td>\n",
       "      <td>47210</td>\n",
       "      <td>Fresh Farmed Tilapia Fillet</td>\n",
       "      <td>15</td>\n",
       "      <td>12</td>\n",
       "      <td>213584</td>\n",
       "    </tr>\n",
       "    <tr>\n",
       "      <td>...</td>\n",
       "      <td>...</td>\n",
       "      <td>...</td>\n",
       "      <td>...</td>\n",
       "      <td>...</td>\n",
       "      <td>...</td>\n",
       "    </tr>\n",
       "    <tr>\n",
       "      <td>43421</td>\n",
       "      <td>43422</td>\n",
       "      <td>100% Juice, Original</td>\n",
       "      <td>98</td>\n",
       "      <td>7</td>\n",
       "      <td>2275</td>\n",
       "    </tr>\n",
       "    <tr>\n",
       "      <td>42579</td>\n",
       "      <td>42580</td>\n",
       "      <td>Chow Mein Noodles</td>\n",
       "      <td>66</td>\n",
       "      <td>6</td>\n",
       "      <td>2274</td>\n",
       "    </tr>\n",
       "    <tr>\n",
       "      <td>27737</td>\n",
       "      <td>27738</td>\n",
       "      <td>UTI Test Strip</td>\n",
       "      <td>126</td>\n",
       "      <td>11</td>\n",
       "      <td>2272</td>\n",
       "    </tr>\n",
       "    <tr>\n",
       "      <td>5422</td>\n",
       "      <td>5423</td>\n",
       "      <td>Zebra Cake Rolls</td>\n",
       "      <td>61</td>\n",
       "      <td>19</td>\n",
       "      <td>2272</td>\n",
       "    </tr>\n",
       "    <tr>\n",
       "      <td>44786</td>\n",
       "      <td>44787</td>\n",
       "      <td>Stage 1 - Just Prunes</td>\n",
       "      <td>92</td>\n",
       "      <td>18</td>\n",
       "      <td>2272</td>\n",
       "    </tr>\n",
       "  </tbody>\n",
       "</table>\n",
       "<p>2500 rows × 5 columns</p>\n",
       "</div>"
      ],
      "text/plain": [
       "       product_id                                       product_name  \\\n",
       "24852       24853                          Shredded 3 Cheese Italian   \n",
       "13176       13177           Warrior Blend Vanilla Dietary Supplement   \n",
       "21137       21138             Fat Free Low Sodium Poppyseed Dressing   \n",
       "21903       21904  Earth Paste Amazingly Natural Toothpaste Peppe...   \n",
       "47209       47210                        Fresh Farmed Tilapia Fillet   \n",
       "...           ...                                                ...   \n",
       "43421       43422                               100% Juice, Original   \n",
       "42579       42580                                  Chow Mein Noodles   \n",
       "27737       27738                                     UTI Test Strip   \n",
       "5422         5423                                   Zebra Cake Rolls   \n",
       "44786       44787                              Stage 1 - Just Prunes   \n",
       "\n",
       "       aisle_id  department_id  n_orders  \n",
       "24852        21             16    472565  \n",
       "13176        65             11    379450  \n",
       "21137        89             13    264683  \n",
       "21903        20             11    241921  \n",
       "47209        15             12    213584  \n",
       "...         ...            ...       ...  \n",
       "43421        98              7      2275  \n",
       "42579        66              6      2274  \n",
       "27737       126             11      2272  \n",
       "5422         61             19      2272  \n",
       "44786        92             18      2272  \n",
       "\n",
       "[2500 rows x 5 columns]"
      ]
     },
     "execution_count": 13,
     "metadata": {},
     "output_type": "execute_result"
    }
   ],
   "source": [
    "products.head(n=2500)"
   ]
  },
  {
   "cell_type": "markdown",
   "metadata": {},
   "source": [
    "#### Reducing the size of the dataframe\n",
    "Since we are not interested in the integrality of the instacart dataset, but only in the most popular products, we only keep the products which have been ordered the most."
   ]
  },
  {
   "cell_type": "code",
   "execution_count": 14,
   "metadata": {},
   "outputs": [
    {
     "data": {
      "text/plain": [
       "product_id       47203.25\n",
       "aisle_id           126.00\n",
       "department_id       20.00\n",
       "n_orders          2286.00\n",
       "Name: 0.95, dtype: float64"
      ]
     },
     "execution_count": 14,
     "metadata": {},
     "output_type": "execute_result"
    }
   ],
   "source": [
    "# only 5% of the products have more than 2286 orders, we can focus on those products\n",
    "products.quantile(0.95)"
   ]
  },
  {
   "cell_type": "code",
   "execution_count": 15,
   "metadata": {},
   "outputs": [],
   "source": [
    "# create a dataframe containing only the 5% most popular products\n",
    "prod_95=products[products['n_orders']>=products.quantile(0.95)['n_orders']].copy()"
   ]
  },
  {
   "cell_type": "code",
   "execution_count": 16,
   "metadata": {},
   "outputs": [
    {
     "data": {
      "image/png": "[encoded data removed]",
      "text/plain": [
       "<Figure size 432x288 with 1 Axes>"
      ]
     },
     "metadata": {
      "needs_background": "light"
     },
     "output_type": "display_data"
    }
   ],
   "source": [
    "sns.distplot(np.log(products['n_orders'].values))\n",
    "plt.xlabel('Log of the number or orders')\n",
    "plt.show()"
   ]
  },
  {
   "cell_type": "code",
   "execution_count": 17,
   "metadata": {},
   "outputs": [],
   "source": [
    "# lets save prod_95 so we can use it later\n",
    "prod_95.to_pickle('Data/instacart_2017_05_01/prod_95.pkl')"
   ]
  },
  {
   "cell_type": "code",
   "execution_count": 26,
   "metadata": {},
   "outputs": [],
   "source": [
    "prod_95=pd.read_pickle('Data/instacart_2017_05_01/prod_95.pkl')"
   ]
  },
  {
   "cell_type": "code",
   "execution_count": 27,
   "metadata": {},
   "outputs": [],
   "source": [
    "prod_95['product_name']=prod_95['product_name'].apply(lowercase_all)"
   ]
  },
  {
   "cell_type": "markdown",
   "metadata": {},
   "source": [
    "## Assign a nutrition grade to instacart products"
   ]
  },
  {
   "cell_type": "markdown",
   "metadata": {},
   "source": [
    "We now want to assign a nutrition grade to the instacart items, similar to the openfoodfacts grade. The way we compute this similarity score is the following. We first add a column for each nutritional grade to prod_95. Then for each word in the product's name, if it is present in the dictionnary of a nutritional grade, we add the number of occurences of that word in the dictionnary. The nutritional grade for a given category is given by the number of occurences of the words of the product's name in the category's dictionnary, divided by the length of the given product's name and the respective dictionnary, to avoid bias."
   ]
  },
  {
   "cell_type": "code",
   "execution_count": 28,
   "metadata": {},
   "outputs": [],
   "source": [
    "nutritional_grades=['a','b','c','d','e']"
   ]
  },
  {
   "cell_type": "code",
   "execution_count": 29,
   "metadata": {},
   "outputs": [],
   "source": [
    "# Compute the nutrion grade\n",
    "for grade in nutritional_grades:\n",
    "    tmp=[]\n",
    "    #check_list=[i[0] for i in translated_dict['a']]\n",
    "    for name in prod_95['product_name']:\n",
    "        aux=[]\n",
    "        for word in name.split():\n",
    "            if word in grade_dict[grade]:\n",
    "                 aux.append(grade_dict[grade][word])\n",
    "        tmp.append(sum(aux)/(len(grade_dict[grade])*len(name.split())))\n",
    "    prod_95[grade]=tmp\n",
    "        "
   ]
  },
  {
   "cell_type": "code",
   "execution_count": 30,
   "metadata": {},
   "outputs": [],
   "source": [
    "def normalize_perline(df,cols=nutritional_grades):\n",
    "    ''' Function to normalize per row the grades'''\n",
    "    tmp=sum(df[nutritional_grades])\n",
    "    if tmp!=0:\n",
    "        for i in nutritional_grades:\n",
    "            df[i]=100*df[i]/tmp\n",
    "    return df"
   ]
  },
  {
   "cell_type": "code",
   "execution_count": 31,
   "metadata": {},
   "outputs": [],
   "source": [
    "# we also normalize the grades per row\n",
    "prod_95=prod_95.apply(normalize_perline,axis=1)"
   ]
  },
  {
   "cell_type": "code",
   "execution_count": 68,
   "metadata": {
    "scrolled": false
   },
   "outputs": [
    {
     "data": {
      "text/html": [
       "<div>\n",
       "<style scoped>\n",
       "    .dataframe tbody tr th:only-of-type {\n",
       "        vertical-align: middle;\n",
       "    }\n",
       "\n",
       "    .dataframe tbody tr th {\n",
       "        vertical-align: top;\n",
       "    }\n",
       "\n",
       "    .dataframe thead th {\n",
       "        text-align: right;\n",
       "    }\n",
       "</style>\n",
       "<table border=\"1\" class=\"dataframe\">\n",
       "  <thead>\n",
       "    <tr style=\"text-align: right;\">\n",
       "      <th></th>\n",
       "      <th>product_name</th>\n",
       "      <th>aisle_id</th>\n",
       "      <th>department_id</th>\n",
       "      <th>n_orders</th>\n",
       "      <th>a</th>\n",
       "      <th>b</th>\n",
       "      <th>c</th>\n",
       "      <th>d</th>\n",
       "      <th>e</th>\n",
       "    </tr>\n",
       "    <tr>\n",
       "      <th>product_id</th>\n",
       "      <th></th>\n",
       "      <th></th>\n",
       "      <th></th>\n",
       "      <th></th>\n",
       "      <th></th>\n",
       "      <th></th>\n",
       "      <th></th>\n",
       "      <th></th>\n",
       "      <th></th>\n",
       "    </tr>\n",
       "  </thead>\n",
       "  <tbody>\n",
       "    <tr>\n",
       "      <td>24852</td>\n",
       "      <td>banana</td>\n",
       "      <td>24</td>\n",
       "      <td>4</td>\n",
       "      <td>472565</td>\n",
       "      <td>17.291202</td>\n",
       "      <td>21.321004</td>\n",
       "      <td>18.438999</td>\n",
       "      <td>21.703096</td>\n",
       "      <td>21.245699</td>\n",
       "    </tr>\n",
       "    <tr>\n",
       "      <td>13176</td>\n",
       "      <td>bag of organic bananas</td>\n",
       "      <td>24</td>\n",
       "      <td>4</td>\n",
       "      <td>379450</td>\n",
       "      <td>37.552517</td>\n",
       "      <td>16.747515</td>\n",
       "      <td>19.126099</td>\n",
       "      <td>16.079876</td>\n",
       "      <td>10.493993</td>\n",
       "    </tr>\n",
       "    <tr>\n",
       "      <td>21137</td>\n",
       "      <td>organic strawberries</td>\n",
       "      <td>24</td>\n",
       "      <td>4</td>\n",
       "      <td>264683</td>\n",
       "      <td>38.356921</td>\n",
       "      <td>16.572203</td>\n",
       "      <td>18.952321</td>\n",
       "      <td>16.162946</td>\n",
       "      <td>9.955610</td>\n",
       "    </tr>\n",
       "    <tr>\n",
       "      <td>21903</td>\n",
       "      <td>organic baby spinach</td>\n",
       "      <td>123</td>\n",
       "      <td>4</td>\n",
       "      <td>241921</td>\n",
       "      <td>42.388024</td>\n",
       "      <td>16.483102</td>\n",
       "      <td>17.404417</td>\n",
       "      <td>14.765430</td>\n",
       "      <td>8.959028</td>\n",
       "    </tr>\n",
       "    <tr>\n",
       "      <td>47209</td>\n",
       "      <td>organic hass avocado</td>\n",
       "      <td>24</td>\n",
       "      <td>4</td>\n",
       "      <td>213584</td>\n",
       "      <td>37.985137</td>\n",
       "      <td>16.797193</td>\n",
       "      <td>19.011557</td>\n",
       "      <td>16.219208</td>\n",
       "      <td>9.986905</td>\n",
       "    </tr>\n",
       "    <tr>\n",
       "      <td>...</td>\n",
       "      <td>...</td>\n",
       "      <td>...</td>\n",
       "      <td>...</td>\n",
       "      <td>...</td>\n",
       "      <td>...</td>\n",
       "      <td>...</td>\n",
       "      <td>...</td>\n",
       "      <td>...</td>\n",
       "      <td>...</td>\n",
       "    </tr>\n",
       "    <tr>\n",
       "      <td>20590</td>\n",
       "      <td>disinfecting wipes fresh scent</td>\n",
       "      <td>114</td>\n",
       "      <td>17</td>\n",
       "      <td>2288</td>\n",
       "      <td>26.071211</td>\n",
       "      <td>27.918418</td>\n",
       "      <td>15.338940</td>\n",
       "      <td>17.951678</td>\n",
       "      <td>12.719753</td>\n",
       "    </tr>\n",
       "    <tr>\n",
       "      <td>2974</td>\n",
       "      <td>regular</td>\n",
       "      <td>77</td>\n",
       "      <td>7</td>\n",
       "      <td>2287</td>\n",
       "      <td>18.952346</td>\n",
       "      <td>21.638227</td>\n",
       "      <td>16.842008</td>\n",
       "      <td>10.812766</td>\n",
       "      <td>31.754653</td>\n",
       "    </tr>\n",
       "    <tr>\n",
       "      <td>9422</td>\n",
       "      <td>hummus</td>\n",
       "      <td>67</td>\n",
       "      <td>20</td>\n",
       "      <td>2286</td>\n",
       "      <td>27.532451</td>\n",
       "      <td>29.955024</td>\n",
       "      <td>33.965568</td>\n",
       "      <td>8.546957</td>\n",
       "      <td>0.000000</td>\n",
       "    </tr>\n",
       "    <tr>\n",
       "      <td>33095</td>\n",
       "      <td>salame, italian dry</td>\n",
       "      <td>96</td>\n",
       "      <td>20</td>\n",
       "      <td>2286</td>\n",
       "      <td>21.026721</td>\n",
       "      <td>11.624237</td>\n",
       "      <td>23.209237</td>\n",
       "      <td>26.833708</td>\n",
       "      <td>17.306097</td>\n",
       "    </tr>\n",
       "    <tr>\n",
       "      <td>37971</td>\n",
       "      <td>organic cranberry pomegranate juice</td>\n",
       "      <td>98</td>\n",
       "      <td>7</td>\n",
       "      <td>2286</td>\n",
       "      <td>23.964420</td>\n",
       "      <td>18.274623</td>\n",
       "      <td>23.365657</td>\n",
       "      <td>14.775290</td>\n",
       "      <td>19.620010</td>\n",
       "    </tr>\n",
       "  </tbody>\n",
       "</table>\n",
       "<p>2486 rows × 9 columns</p>\n",
       "</div>"
      ],
      "text/plain": [
       "                                   product_name  aisle_id  department_id  \\\n",
       "product_id                                                                 \n",
       "24852                                    banana        24              4   \n",
       "13176                    bag of organic bananas        24              4   \n",
       "21137                      organic strawberries        24              4   \n",
       "21903                      organic baby spinach       123              4   \n",
       "47209                      organic hass avocado        24              4   \n",
       "...                                         ...       ...            ...   \n",
       "20590            disinfecting wipes fresh scent       114             17   \n",
       "2974                                    regular        77              7   \n",
       "9422                                     hummus        67             20   \n",
       "33095                       salame, italian dry        96             20   \n",
       "37971       organic cranberry pomegranate juice        98              7   \n",
       "\n",
       "            n_orders          a          b          c          d          e  \n",
       "product_id                                                                   \n",
       "24852         472565  17.291202  21.321004  18.438999  21.703096  21.245699  \n",
       "13176         379450  37.552517  16.747515  19.126099  16.079876  10.493993  \n",
       "21137         264683  38.356921  16.572203  18.952321  16.162946   9.955610  \n",
       "21903         241921  42.388024  16.483102  17.404417  14.765430   8.959028  \n",
       "47209         213584  37.985137  16.797193  19.011557  16.219208   9.986905  \n",
       "...              ...        ...        ...        ...        ...        ...  \n",
       "20590           2288  26.071211  27.918418  15.338940  17.951678  12.719753  \n",
       "2974            2287  18.952346  21.638227  16.842008  10.812766  31.754653  \n",
       "9422            2286  27.532451  29.955024  33.965568   8.546957   0.000000  \n",
       "33095           2286  21.026721  11.624237  23.209237  26.833708  17.306097  \n",
       "37971           2286  23.964420  18.274623  23.365657  14.775290  19.620010  \n",
       "\n",
       "[2486 rows x 9 columns]"
      ]
     },
     "execution_count": 68,
     "metadata": {},
     "output_type": "execute_result"
    }
   ],
   "source": [
    "prod_95"
   ]
  },
  {
   "cell_type": "markdown",
   "metadata": {},
   "source": [
    "## Relationship between nutrition grade and other attributes of products"
   ]
  },
  {
   "cell_type": "markdown",
   "metadata": {},
   "source": [
    "Now that we have computed the nutrition grade for the instacart items, we can see how it is related to other attibutes of the items. For now, we focused on the relationship between nutrition grade and department id, but the analysis will include later on several other attributes."
   ]
  },
  {
   "cell_type": "code",
   "execution_count": 7,
   "metadata": {},
   "outputs": [
    {
     "data": {
      "text/html": [
       "<div>\n",
       "<style scoped>\n",
       "    .dataframe tbody tr th:only-of-type {\n",
       "        vertical-align: middle;\n",
       "    }\n",
       "\n",
       "    .dataframe tbody tr th {\n",
       "        vertical-align: top;\n",
       "    }\n",
       "\n",
       "    .dataframe thead th {\n",
       "        text-align: right;\n",
       "    }\n",
       "</style>\n",
       "<table border=\"1\" class=\"dataframe\">\n",
       "  <thead>\n",
       "    <tr style=\"text-align: right;\">\n",
       "      <th></th>\n",
       "      <th>department_id</th>\n",
       "      <th>department</th>\n",
       "    </tr>\n",
       "  </thead>\n",
       "  <tbody>\n",
       "    <tr>\n",
       "      <td>0</td>\n",
       "      <td>1</td>\n",
       "      <td>frozen</td>\n",
       "    </tr>\n",
       "    <tr>\n",
       "      <td>1</td>\n",
       "      <td>2</td>\n",
       "      <td>other</td>\n",
       "    </tr>\n",
       "    <tr>\n",
       "      <td>2</td>\n",
       "      <td>3</td>\n",
       "      <td>bakery</td>\n",
       "    </tr>\n",
       "    <tr>\n",
       "      <td>3</td>\n",
       "      <td>4</td>\n",
       "      <td>produce</td>\n",
       "    </tr>\n",
       "    <tr>\n",
       "      <td>4</td>\n",
       "      <td>5</td>\n",
       "      <td>alcohol</td>\n",
       "    </tr>\n",
       "    <tr>\n",
       "      <td>5</td>\n",
       "      <td>6</td>\n",
       "      <td>international</td>\n",
       "    </tr>\n",
       "    <tr>\n",
       "      <td>6</td>\n",
       "      <td>7</td>\n",
       "      <td>beverages</td>\n",
       "    </tr>\n",
       "    <tr>\n",
       "      <td>7</td>\n",
       "      <td>8</td>\n",
       "      <td>pets</td>\n",
       "    </tr>\n",
       "    <tr>\n",
       "      <td>8</td>\n",
       "      <td>9</td>\n",
       "      <td>dry goods pasta</td>\n",
       "    </tr>\n",
       "    <tr>\n",
       "      <td>9</td>\n",
       "      <td>10</td>\n",
       "      <td>bulk</td>\n",
       "    </tr>\n",
       "    <tr>\n",
       "      <td>10</td>\n",
       "      <td>11</td>\n",
       "      <td>personal care</td>\n",
       "    </tr>\n",
       "    <tr>\n",
       "      <td>11</td>\n",
       "      <td>12</td>\n",
       "      <td>meat seafood</td>\n",
       "    </tr>\n",
       "    <tr>\n",
       "      <td>12</td>\n",
       "      <td>13</td>\n",
       "      <td>pantry</td>\n",
       "    </tr>\n",
       "    <tr>\n",
       "      <td>13</td>\n",
       "      <td>14</td>\n",
       "      <td>breakfast</td>\n",
       "    </tr>\n",
       "    <tr>\n",
       "      <td>14</td>\n",
       "      <td>15</td>\n",
       "      <td>canned goods</td>\n",
       "    </tr>\n",
       "    <tr>\n",
       "      <td>15</td>\n",
       "      <td>16</td>\n",
       "      <td>dairy eggs</td>\n",
       "    </tr>\n",
       "    <tr>\n",
       "      <td>16</td>\n",
       "      <td>17</td>\n",
       "      <td>household</td>\n",
       "    </tr>\n",
       "    <tr>\n",
       "      <td>17</td>\n",
       "      <td>18</td>\n",
       "      <td>babies</td>\n",
       "    </tr>\n",
       "    <tr>\n",
       "      <td>18</td>\n",
       "      <td>19</td>\n",
       "      <td>snacks</td>\n",
       "    </tr>\n",
       "    <tr>\n",
       "      <td>19</td>\n",
       "      <td>20</td>\n",
       "      <td>deli</td>\n",
       "    </tr>\n",
       "    <tr>\n",
       "      <td>20</td>\n",
       "      <td>21</td>\n",
       "      <td>missing</td>\n",
       "    </tr>\n",
       "  </tbody>\n",
       "</table>\n",
       "</div>"
      ],
      "text/plain": [
       "    department_id       department\n",
       "0               1           frozen\n",
       "1               2            other\n",
       "2               3           bakery\n",
       "3               4          produce\n",
       "4               5          alcohol\n",
       "5               6    international\n",
       "6               7        beverages\n",
       "7               8             pets\n",
       "8               9  dry goods pasta\n",
       "9              10             bulk\n",
       "10             11    personal care\n",
       "11             12     meat seafood\n",
       "12             13           pantry\n",
       "13             14        breakfast\n",
       "14             15     canned goods\n",
       "15             16       dairy eggs\n",
       "16             17        household\n",
       "17             18           babies\n",
       "18             19           snacks\n",
       "19             20             deli\n",
       "20             21          missing"
      ]
     },
     "execution_count": 7,
     "metadata": {},
     "output_type": "execute_result"
    }
   ],
   "source": [
    "dep"
   ]
  },
  {
   "cell_type": "code",
   "execution_count": 32,
   "metadata": {
    "scrolled": true
   },
   "outputs": [
    {
     "data": {
      "text/plain": [
       "[[Text(0, 0, 'frozen'),\n",
       "  Text(0, 0, 'other'),\n",
       "  Text(0, 0, 'bakery'),\n",
       "  Text(0, 0, 'produce'),\n",
       "  Text(0, 0, 'alcohol'),\n",
       "  Text(0, 0, 'international'),\n",
       "  Text(0, 0, 'beverages'),\n",
       "  Text(0, 0, 'pets'),\n",
       "  Text(0, 0, 'dry goods pasta'),\n",
       "  Text(0, 0, 'bulk'),\n",
       "  Text(0, 0, 'personal care'),\n",
       "  Text(0, 0, 'meat seafood'),\n",
       "  Text(0, 0, 'pantry'),\n",
       "  Text(0, 0, 'breakfast'),\n",
       "  Text(0, 0, 'canned goods'),\n",
       "  Text(0, 0, 'dairy eggs'),\n",
       "  Text(0, 0, 'household'),\n",
       "  Text(0, 0, 'babies'),\n",
       "  Text(0, 0, 'snacks'),\n",
       "  Text(0, 0, 'deli')]]"
      ]
     },
     "execution_count": 32,
     "metadata": {},
     "output_type": "execute_result"
    },
    {
     "data": {
      "image/png": "[encoded data removed]",
      "text/plain": [
       "<Figure size 432x288 with 1 Axes>"
      ]
     },
     "metadata": {
      "needs_background": "light"
     },
     "output_type": "display_data"
    }
   ],
   "source": [
    "g = sns.barplot(data=prod_95,y='department_id',x='n_orders',palette=\"Blues_d\", orient=\"h\")\n",
    "g.set(yticklabels = dep.department)"
   ]
  },
  {
   "cell_type": "markdown",
   "metadata": {},
   "source": [
    "In the above plot we see where most of the orders where made, following the department ids.\n",
    "* Most orders are made in the department number 4, department \"produce\"\n",
    "* Following are department 21 which define the missing product, and department 7 which are beverages\n",
    "* Department 11, personal care, is amongst the less bought department"
   ]
  },
  {
   "cell_type": "code",
   "execution_count": 11,
   "metadata": {
    "scrolled": false
   },
   "outputs": [],
   "source": [
    "#sns.pairplot(prod_95,vars=nutritional_grades,hue='department_id',palette=\"Blues_d\")"
   ]
  },
  {
   "cell_type": "markdown",
   "metadata": {},
   "source": [
    "### Boxplots"
   ]
  },
  {
   "cell_type": "markdown",
   "metadata": {},
   "source": [
    "For each nutrition grade, we plot a boxplot of the values of this grade for each department id. "
   ]
  },
  {
   "cell_type": "code",
   "execution_count": 33,
   "metadata": {
    "scrolled": true
   },
   "outputs": [
    {
     "data": {
      "image/png": "[encoded data removed]",
      "text/plain": [
       "<Figure size 432x288 with 1 Axes>"
      ]
     },
     "metadata": {
      "needs_background": "light"
     },
     "output_type": "display_data"
    },
    {
     "data": {
      "image/png": "[encoded data removed]",
      "text/plain": [
       "<Figure size 432x288 with 1 Axes>"
      ]
     },
     "metadata": {
      "needs_background": "light"
     },
     "output_type": "display_data"
    },
    {
     "data": {
      "image/png": "[encoded data removed]",
      "text/plain": [
       "<Figure size 432x288 with 1 Axes>"
      ]
     },
     "metadata": {
      "needs_background": "light"
     },
     "output_type": "display_data"
    },
    {
     "data": {
      "image/png": "[encoded data removed]",
      "text/plain": [
       "<Figure size 432x288 with 1 Axes>"
      ]
     },
     "metadata": {
      "needs_background": "light"
     },
     "output_type": "display_data"
    },
    {
     "data": {
      "image/png": "[encoded data removed]",
      "text/plain": [
       "<Figure size 432x288 with 1 Axes>"
      ]
     },
     "metadata": {
      "needs_background": "light"
     },
     "output_type": "display_data"
    }
   ],
   "source": [
    "for grade in nutritional_grades:\n",
    "    fig,ax=plt.subplots()\n",
    "    g = sns.boxplot(data=prod_95,y='department_id',x=grade,palette=\"Blues_d\",ax=ax, orient=\"h\")\n",
    "    g.set(yticklabels = dep.department)"
   ]
  },
  {
   "cell_type": "markdown",
   "metadata": {},
   "source": [
    "#### Analysis of the boxplots \n",
    "As such we can define some analysis : \n",
    "* Departments that will contain the most products with grade A and as such be defined as the healthiest departments are : canned goods, bakery, dry goods pasta and produce\n",
    "    * By looking at this we observe that canned good are the best but, in our computation, the contains often words of vegetables and as such are quite well ranked\n",
    "    * Alcohol is definitely the one product that is not ranked in grade A\n",
    "* For grade B and C, the numbers are all close together, we cannot really sort something out of those plots, but we can differenciate them from A, and we see the apparition of alcohol, and also that international products seem to have a lower grade\n",
    "* For grade D, departments like alcohol, dairy eggs and frozen become predominent, obviously as we know they are not good for our health\n",
    "* Finally, grade E contains mostly alcohol, but also other beverages and snacks have a higher mean.\n",
    "    * with this plot we also can notice the difference with plot A where departments that are healthy obviously disappear in plot E"
   ]
  },
  {
   "cell_type": "markdown",
   "metadata": {},
   "source": [
    "# For the future\n",
    "Here we talk about the future of this project.\n",
    "\n",
    "We have noted a few points and a few ideas that we'd like to implement:\n",
    "1. Link better both datasets to have more analysis to do\n",
    "2. Create rankings:\n",
    "    1. What products are good for such diet\n",
    "    2. How good are the products the most bought on the instacart dataset\n",
    "    3. Discover a standard profile of buyer\n",
    "3. Possibly augment our translation dictionary to completement the Google one that doesn't seem to be working\n",
    "\n",
    "Also we will begin to write our report and prepare the poster for our final presentation"
   ]
  },
  {
   "cell_type": "code",
   "execution_count": null,
   "metadata": {},
   "outputs": [],
   "source": []
  }
 ],
 "metadata": {
  "kernelspec": {
   "display_name": "Python 3",
   "language": "python",
   "name": "python3"
  },
  "language_info": {
   "codemirror_mode": {
    "name": "ipython",
    "version": 3
   },
   "file_extension": ".py",
   "mimetype": "text/x-python",
   "name": "python",
   "nbconvert_exporter": "python",
   "pygments_lexer": "ipython3",
   "version": "3.7.3"
  }
 },
 "nbformat": 4,
 "nbformat_minor": 2
}
